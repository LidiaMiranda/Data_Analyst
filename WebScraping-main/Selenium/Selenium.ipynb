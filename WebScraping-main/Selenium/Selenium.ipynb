{
 "cells": [
  {
   "cell_type": "markdown",
   "metadata": {},
   "source": [
    "# Web Scraping: Selenium"
   ]
  },
  {
   "cell_type": "markdown",
   "metadata": {},
   "source": [
    "A menudo, los datos están disponibles públicamente para nosotros, pero no en una forma que sea fácilmente utilizable. Ahí es donde entra en juego el web scraping, podemos usar web scraping para obtener nuestros datos deseados en un formato conveniente que luego se puede usar. a continuación, mostraré cómo se puede extraer información de interés de un sitio web usando el paquete Selenium en Python. Selenium nos permite manejar una ventana del navegador e interactuar con el sitio web mediante programación. \n",
    "\n",
    "Selenium también tiene varios métodos que facilitan la extracción de datos.\n",
    "En este Jupyter Notebook vamos a usar Python 3 en Windows.\n",
    "\n",
    "En primer lugar, tendremos que descargar un controlador.\n",
    "\n",
    "Usaremos ChromeDriver para Google Chrome. Para obtener una lista completa de controladores y plataformas compatibles, consulte [Selenium](https://www.selenium.dev/downloads/). Si desea utilizar Google Chrome, diríjase a [chrome](https://chromedriver.chromium.org/) y descargue el controlador que corresponde a su versión actual de Google Chrome.\n",
    "\n",
    "Como saber cual es la version de chrome que utilizo simple utilizamos pegamos el siguiente enlace en la barra de chrome chrome://settings/help\n",
    "\n",
    "Antes de comenzar se preguntaran si ya se BeautifulSoup cual es la diferencia con Selenium.\n",
    "\n",
    "A diferencia BeautifulSoup, Selenium no trabaja con el texto fuente en HTML de la web en cuestión, sino que carga la página en un navegador sin interfaz de usuario. El navegador interpreta entonces el código fuente de la página y crea, a partir de él, un Document Object Model (modelo de objetos de documento o DOM). Esta interfaz estandarizada permite poner a prueba las interacciones de los usuarios. De esta forma se consigue, por ejemplo, simular clics y rellenar formularios automáticamente. Los cambios en la web que resultan de dichas acciones se reflejan en el DOM. La estructura del proceso de web scraping con Selenium es la siguiente:\n",
    "\n",
    "URL → Solicitud HTTP → HTML → Selenium → DOM\n",
    "\n"
   ]
  },
  {
   "cell_type": "markdown",
   "metadata": {},
   "source": [
    "## Comencemos importando las bibliotecas que usaremos:"
   ]
  },
  {
   "cell_type": "code",
   "execution_count": 1,
   "metadata": {
    "ExecuteTime": {
     "end_time": "2021-02-26T12:16:59.303652Z",
     "start_time": "2021-02-26T12:16:59.300657Z"
    }
   },
   "outputs": [],
   "source": [
    "from selenium import webdriver\n",
    "import urllib3 # urllib3 es un cliente HTTP potente y fácil de usar para Python.\n",
    "import re # Expresiones regulares \n",
    "import time\n",
    "import pandas as pd"
   ]
  },
  {
   "cell_type": "markdown",
   "metadata": {},
   "source": [
    "El objeto driver es con el que trabajaremos a partir de ahora"
   ]
  },
  {
   "cell_type": "code",
   "execution_count": 2,
   "metadata": {
    "ExecuteTime": {
     "end_time": "2021-02-26T10:22:46.333679Z",
     "start_time": "2021-02-26T10:22:45.178780Z"
    }
   },
   "outputs": [],
   "source": [
    "# especificamos el path hasta nuestro driver recién descargado:\n",
    "chrome_driver_path = 'chromedriver.exe'\n",
    "options  = webdriver.ChromeOptions()"
   ]
  },
  {
   "cell_type": "code",
   "execution_count": 3,
   "metadata": {},
   "outputs": [
    {
     "name": "stderr",
     "output_type": "stream",
     "text": [
      "C:\\Users\\lydia\\AppData\\Roaming\\Python\\Python37\\site-packages\\ipykernel_launcher.py:2: DeprecationWarning: executable_path has been deprecated, please pass in a Service object\n",
      "  \n"
     ]
    }
   ],
   "source": [
    "# Creamos el driver con el que nos vamos a manejar en la sesión de scrapeo:\n",
    "driver = webdriver.Chrome(executable_path = chrome_driver_path, options = options)"
   ]
  },
  {
   "cell_type": "code",
   "execution_count": 4,
   "metadata": {},
   "outputs": [],
   "source": [
    "# indicamos la URL de la página web a la que queremos acceder:\n",
    "url = 'https://insolvencyinsider.ca/filing/'\n",
    "# el objeto driver nos va a permitir alterar el estado del la página\n",
    "driver.get(url)"
   ]
  },
  {
   "cell_type": "markdown",
   "metadata": {},
   "source": [
    "Ahora si queremos hacer click en el boton de \"Load more\".."
   ]
  },
  {
   "cell_type": "markdown",
   "metadata": {},
   "source": [
    "Selenium proporciona varios métodos para localizar elementos en la página web. Usaremos el método find_element_by_xpath() para crear un objeto de botón, con el que luego podremos interactuar:"
   ]
  },
  {
   "cell_type": "markdown",
   "metadata": {},
   "source": [
    "/html/body/div[2]/div/main/div/div/div/button"
   ]
  },
  {
   "cell_type": "code",
   "execution_count": 5,
   "metadata": {},
   "outputs": [
    {
     "name": "stderr",
     "output_type": "stream",
     "text": [
      "C:\\Users\\lydia\\AppData\\Roaming\\Python\\Python37\\site-packages\\ipykernel_launcher.py:1: DeprecationWarning: find_element_by_* commands are deprecated. Please use find_element() instead\n",
      "  \"\"\"Entry point for launching an IPython kernel.\n"
     ]
    }
   ],
   "source": [
    "loadMore = driver.find_element_by_xpath(xpath=\"/html/body/div[2]/div/main/div/div/div/button\")"
   ]
  },
  {
   "cell_type": "markdown",
   "metadata": {},
   "source": [
    "Antes de continuar, necesitaremos saber cuántas páginas hay para saber cuántas veces debemos hacer clic en el botón. Necesitaremos una forma de extraer el código fuente del sitio web. Afortunadamente, este proceso es relativamente sencillo con las bibliotecas urllib3 y re."
   ]
  },
  {
   "cell_type": "code",
   "execution_count": 6,
   "metadata": {},
   "outputs": [],
   "source": [
    "url = \"https://insolvencyinsider.ca/filing/\"\n",
    "http = urllib3.PoolManager()\n",
    "r = http.request(\"GET\", url)\n",
    "text = str(r.data)\n"
   ]
  },
  {
   "cell_type": "markdown",
   "metadata": {},
   "source": [
    "```text``` ahora es una cadena. Ahora, necesitamos una forma de extraer total_pages de nuestra cadena de texto. Imprima texto para ver cómo podemos extraerlo usando RegEx con el paquete re. Podemos totalizar_páginas así:"
   ]
  },
  {
   "cell_type": "code",
   "execution_count": 7,
   "metadata": {},
   "outputs": [],
   "source": [
    "totalPagesObj = re.search(pattern='\"total_pages\":\\d+', string=text)\n",
    "totalPagesStr = totalPagesObj.group(0)\n",
    "totalPages = int((re.search(pattern=\"\\d+\", string=totalPagesStr)).group(0))"
   ]
  },
  {
   "cell_type": "code",
   "execution_count": 8,
   "metadata": {},
   "outputs": [
    {
     "data": {
      "text/plain": [
       "113"
      ]
     },
     "execution_count": 8,
     "metadata": {},
     "output_type": "execute_result"
    }
   ],
   "source": [
    "totalPages"
   ]
  },
  {
   "cell_type": "markdown",
   "metadata": {},
   "source": [
    "El método de búsqueda toma un patrón y una cadena. En este caso nuestro patrón es '\"total_pages\":\\d+' . Si no está familiarizado con RegEx, todo esto significa que estamos buscando la cadena \"total_pages\": con dos o más dígitos después de los dos puntos. \\d se refiere a un dígito entre 0 y 9, mientras que + indica que Python debe buscar una o más de las expresiones regulares anteriores. Puedes leer más sobre el paquete re aquí. El método search() devuelve un objeto Match. re proporciona el método group() que devuelve uno o más subgrupos de la coincidencia. Pasamos 0 como argumento para indicar que queremos el parche completo. La tercera línea simplemente extrae el entero correspondiente a total_pages de la cadena."
   ]
  },
  {
   "cell_type": "code",
   "execution_count": 9,
   "metadata": {},
   "outputs": [
    {
     "name": "stdout",
     "output_type": "stream",
     "text": [
      "<re.Match object; span=(116977, 116994), match='\"total_pages\":113'>\n",
      "\"total_pages\":113\n",
      "113\n"
     ]
    }
   ],
   "source": [
    "print(totalPagesObj)\n",
    "print(totalPagesStr)\n",
    "print(totalPages)"
   ]
  },
  {
   "cell_type": "markdown",
   "metadata": {},
   "source": [
    "Con eso completo, ahora podemos cargar todas las páginas de Insolvency Insider. Podemos hacer clic en el botón Cargar más accediendo al método click() del objeto. Esperamos tres segundos entre clics para no sobrecargar el sitio web."
   ]
  },
  {
   "cell_type": "markdown",
   "metadata": {},
   "source": [
    "Recuerde que el total de las páginas son 88 pero comenzamos en 0 asi que es 88-1"
   ]
  },
  {
   "cell_type": "code",
   "execution_count": 10,
   "metadata": {},
   "outputs": [],
   "source": [
    "for i in range(5):\n",
    "    loadMore.click()\n",
    "    time.sleep(3)"
   ]
  },
  {
   "cell_type": "markdown",
   "metadata": {},
   "source": [
    "Una vez que ejecute esto, debería ver que se hace clic en el botón Cargar más y que se cargan las páginas restantes.\n",
    "Una vez que se carga cada página, podemos comenzar a raspar el contenido. Ahora, eliminar ciertos elementos como el nombre de presentación, la fecha y la hiperreferencia es bastante sencillo. Podemos usar los métodos find_elements_by_class_name() y find_elements_by_xpath() de Selenium (importante la ```s``` extra después de element):"
   ]
  },
  {
   "cell_type": "markdown",
   "metadata": {},
   "source": [
    "filing-name\n",
    "filing-date\n",
    "//*[@id='content']/div[2]/div/div[1]/h3/a"
   ]
  },
  {
   "cell_type": "code",
   "execution_count": 11,
   "metadata": {},
   "outputs": [
    {
     "name": "stderr",
     "output_type": "stream",
     "text": [
      "C:\\Users\\lydia\\AppData\\Roaming\\Python\\Python37\\site-packages\\ipykernel_launcher.py:1: DeprecationWarning: find_elements_by_* commands are deprecated. Please use find_elements() instead\n",
      "  \"\"\"Entry point for launching an IPython kernel.\n",
      "C:\\Users\\lydia\\AppData\\Roaming\\Python\\Python37\\site-packages\\ipykernel_launcher.py:3: DeprecationWarning: find_elements_by_* commands are deprecated. Please use find_elements() instead\n",
      "  This is separate from the ipykernel package so we can avoid doing imports until\n",
      "C:\\Users\\lydia\\AppData\\Roaming\\Python\\Python37\\site-packages\\ipykernel_launcher.py:5: DeprecationWarning: find_elements_by_* commands are deprecated. Please use find_elements() instead\n",
      "  \"\"\"\n"
     ]
    }
   ],
   "source": [
    "filingNamesElements = driver.find_elements_by_class_name(\"filing-name\")\n",
    "\n",
    "filingDateElements = driver.find_elements_by_class_name(\"filing-date\")\n",
    "\n",
    "filingHrefElements = driver.find_elements_by_xpath(\"//*[@id='content']/div[2]/div/div[1]/h3/a\")"
   ]
  },
  {
   "cell_type": "markdown",
   "metadata": {},
   "source": [
    "También nos gustaría conocer los metadatos de presentación, es decir, el tipo de archivo, el sector de la empresa y el lugar en la que operan. Extraer estos datos requiere un poco más de trabajo."
   ]
  },
  {
   "cell_type": "markdown",
   "metadata": {},
   "source": [
    "//*[@id='content']/div[2]/div[%d]/div[2]/div[1]"
   ]
  },
  {
   "cell_type": "code",
   "execution_count": 12,
   "metadata": {},
   "outputs": [
    {
     "name": "stderr",
     "output_type": "stream",
     "text": [
      "C:\\Users\\lydia\\AppData\\Roaming\\Python\\Python37\\site-packages\\ipykernel_launcher.py:3: DeprecationWarning: find_elements_by_* commands are deprecated. Please use find_elements() instead\n",
      "  This is separate from the ipykernel package so we can avoid doing imports until\n"
     ]
    }
   ],
   "source": [
    "filingMetas = []\n",
    "for i in range(len(filingNamesElements) + 1):\n",
    "    filingMetai = driver.find_elements_by_xpath((\"//*[@id='content']/div[2]/div[%d]/div[2]/div[1]\" %(i)))\n",
    "    for element in filingMetai:\n",
    "        filingMetaTexti = element.text\n",
    "        filingMetas.append(filingMetaTexti)"
   ]
  },
  {
   "cell_type": "markdown",
   "metadata": {},
   "source": [
    "De cada elemento de la presentación de Metas podemos extraer el tipo de presentación, la industria y la provincia, así:"
   ]
  },
  {
   "cell_type": "markdown",
   "metadata": {},
   "source": [
    "********"
   ]
  },
  {
   "cell_type": "code",
   "execution_count": 15,
   "metadata": {},
   "outputs": [],
   "source": [
    "metaDict = {\"Filing Type\": [], \"Industry\": [], \"Province\": []}\n",
    "for filing in filingMetas:\n",
    "    filingSplit = filing.split(\"\\n\")\n",
    "  \n",
    "    for item in filingSplit:\n",
    "        itemSplit = item.split(\":\")\n",
    "\n",
    "        \n",
    "        if itemSplit[0] == \"Filing Type\":\n",
    "            metaDict[\"Filing Type\"].append(itemSplit[1])\n",
    "        elif itemSplit[0] == \"Industry\":\n",
    "            metaDict[\"Industry\"].append(itemSplit[1])\n",
    "        elif itemSplit[0] == \"Province\":\n",
    "            metaDict[\"Province\"].append(itemSplit[1])\n",
    "            \n",
    "    if \"Filing Type\" not in filing:\n",
    "        metaDict[\"Filing Type\"].append(\"NA\")\n",
    "    elif \"Industry\" not in filing:\n",
    "        metaDict[\"Industry\"].append(\"NA\")\n",
    "    elif \"Province\" not in filing:\n",
    "        metaDict[\"Province\"].append(\"NA\")"
   ]
  },
  {
   "cell_type": "code",
   "execution_count": 16,
   "metadata": {},
   "outputs": [
    {
     "name": "stdout",
     "output_type": "stream",
     "text": [
      "60\n",
      "60\n",
      "60\n"
     ]
    }
   ],
   "source": [
    "for key in metaDict:\n",
    "    print(len(metaDict[key]))"
   ]
  },
  {
   "cell_type": "markdown",
   "metadata": {},
   "source": [
    "*********"
   ]
  },
  {
   "cell_type": "markdown",
   "metadata": {},
   "source": [
    "Ahora, todavía tenemos que poner nuestros nombres y fechas de presentación en las listas. Hacemos esto agregando el texto de cada elemento a una lista usando el método text() de antes:"
   ]
  },
  {
   "cell_type": "code",
   "execution_count": 17,
   "metadata": {},
   "outputs": [],
   "source": [
    "filingName = []\n",
    "filingDate = []\n",
    "filingLink = []\n",
    "# para cada elemento en la lista de elementos de nombre de archivo, agrega el\n",
    "# texto del elemento a la lista de nombres de archivo.\n",
    "for element in filingNamesElements:\n",
    "    filingName.append(element.text)\n",
    "# para cada elemento en la lista de elementos de la fecha de presentación, agrega el\n",
    "# texto del elemento a la lista de fechas de presentación.\n",
    "for element in filingDateElements:\n",
    "    filingDate.append(element.text)\n",
    "for link in filingHrefElements:\n",
    "    if link.get_attribute(\"href\"):\n",
    "        filingLink.append(link.get_attribute(\"href\"))"
   ]
  },
  {
   "cell_type": "markdown",
   "metadata": {},
   "source": [
    "Una vez que tengamos eso, estamos listos para poner todo en un diccionario y luego crear un DataFrame de pandas:"
   ]
  },
  {
   "cell_type": "code",
   "execution_count": 18,
   "metadata": {},
   "outputs": [],
   "source": [
    "# Crea un diccionario final con nombres y fechas de archivo.\n",
    "fullDict = {\n",
    "    \"Filing Name\": filingName,\n",
    "    \"Filing Date\": filingDate, \n",
    "    \"Filing Type\": metaDict[\"Filing Type\"],\n",
    "    \"Industry\": metaDict[\"Industry\"],\n",
    "    \"Province\": metaDict[\"Province\"],\n",
    "    \"Link\": filingLink\n",
    "}\n",
    "# Crea un DataFrame.\n",
    "df = pd.DataFrame(fullDict)\n",
    "df[\"Filing Date\"] = pd.to_datetime(df[\"Filing Date\"], infer_datetime_format=True)"
   ]
  },
  {
   "cell_type": "code",
   "execution_count": 19,
   "metadata": {},
   "outputs": [
    {
     "data": {
      "text/html": [
       "<div>\n",
       "<style scoped>\n",
       "    .dataframe tbody tr th:only-of-type {\n",
       "        vertical-align: middle;\n",
       "    }\n",
       "\n",
       "    .dataframe tbody tr th {\n",
       "        vertical-align: top;\n",
       "    }\n",
       "\n",
       "    .dataframe thead th {\n",
       "        text-align: right;\n",
       "    }\n",
       "</style>\n",
       "<table border=\"1\" class=\"dataframe\">\n",
       "  <thead>\n",
       "    <tr style=\"text-align: right;\">\n",
       "      <th></th>\n",
       "      <th>Filing Name</th>\n",
       "      <th>Filing Date</th>\n",
       "      <th>Filing Type</th>\n",
       "      <th>Industry</th>\n",
       "      <th>Province</th>\n",
       "      <th>Link</th>\n",
       "    </tr>\n",
       "  </thead>\n",
       "  <tbody>\n",
       "    <tr>\n",
       "      <th>0</th>\n",
       "      <td>GreenSpace Brands Inc.</td>\n",
       "      <td>2023-04-06</td>\n",
       "      <td>CCAA</td>\n",
       "      <td>Food &amp; Accommodation</td>\n",
       "      <td>Ontario</td>\n",
       "      <td>https://insolvencyinsider.ca/filing/greenspace...</td>\n",
       "    </tr>\n",
       "    <tr>\n",
       "      <th>1</th>\n",
       "      <td>Phoena Holdings Inc. et al.</td>\n",
       "      <td>2023-04-04</td>\n",
       "      <td>CCAA</td>\n",
       "      <td>Cannabis</td>\n",
       "      <td>Ontario</td>\n",
       "      <td>https://insolvencyinsider.ca/filing/phoena-hol...</td>\n",
       "    </tr>\n",
       "    <tr>\n",
       "      <th>2</th>\n",
       "      <td>JMD-M Canada Inc.</td>\n",
       "      <td>2023-03-31</td>\n",
       "      <td>Receivership</td>\n",
       "      <td>Oil and Gas</td>\n",
       "      <td>Ontario</td>\n",
       "      <td>https://insolvencyinsider.ca/filing/jmd-m-cana...</td>\n",
       "    </tr>\n",
       "    <tr>\n",
       "      <th>3</th>\n",
       "      <td>RenoRun Inc.</td>\n",
       "      <td>2023-03-27</td>\n",
       "      <td>NOI</td>\n",
       "      <td>Transportation</td>\n",
       "      <td>Quebec</td>\n",
       "      <td>https://insolvencyinsider.ca/filing/renorun-inc/</td>\n",
       "    </tr>\n",
       "    <tr>\n",
       "      <th>4</th>\n",
       "      <td>FlexITy Solutions Inc. and FlexITy Holdings Inc.</td>\n",
       "      <td>2023-03-27</td>\n",
       "      <td>NOI</td>\n",
       "      <td>Technology</td>\n",
       "      <td>Ontario</td>\n",
       "      <td>https://insolvencyinsider.ca/filing/flexity-so...</td>\n",
       "    </tr>\n",
       "    <tr>\n",
       "      <th>5</th>\n",
       "      <td>Magna Gold Corp</td>\n",
       "      <td>2023-03-27</td>\n",
       "      <td>CCAA</td>\n",
       "      <td>Mining</td>\n",
       "      <td>Ontario</td>\n",
       "      <td>https://insolvencyinsider.ca/filing/magna-gold...</td>\n",
       "    </tr>\n",
       "    <tr>\n",
       "      <th>6</th>\n",
       "      <td>Field Trip Health &amp; Wellness Ltd. et al.</td>\n",
       "      <td>2023-03-23</td>\n",
       "      <td>CCAA</td>\n",
       "      <td>Healthcare</td>\n",
       "      <td>Ontario</td>\n",
       "      <td>https://insolvencyinsider.ca/filing/field-trip...</td>\n",
       "    </tr>\n",
       "    <tr>\n",
       "      <th>7</th>\n",
       "      <td>Radient Technologies Inc., Radient Technologie...</td>\n",
       "      <td>2023-03-21</td>\n",
       "      <td>Receivership</td>\n",
       "      <td>Cannabis</td>\n",
       "      <td>Alberta</td>\n",
       "      <td>https://insolvencyinsider.ca/filing/radient-te...</td>\n",
       "    </tr>\n",
       "    <tr>\n",
       "      <th>8</th>\n",
       "      <td>Canada Drives Ltd. et al.</td>\n",
       "      <td>2023-03-20</td>\n",
       "      <td>CCAA</td>\n",
       "      <td>Automotive</td>\n",
       "      <td>British Columbia</td>\n",
       "      <td>https://insolvencyinsider.ca/filing/canada-dri...</td>\n",
       "    </tr>\n",
       "    <tr>\n",
       "      <th>9</th>\n",
       "      <td>5684961 Manitoba Ltd.</td>\n",
       "      <td>2023-03-17</td>\n",
       "      <td>Receivership</td>\n",
       "      <td>Real Estate</td>\n",
       "      <td>Manitoba</td>\n",
       "      <td>https://insolvencyinsider.ca/filing/5684961-ma...</td>\n",
       "    </tr>\n",
       "    <tr>\n",
       "      <th>10</th>\n",
       "      <td>Silicon Valley Bank (Canada) (“SVB”)</td>\n",
       "      <td>2023-03-15</td>\n",
       "      <td>Liquidation</td>\n",
       "      <td>Financial Services</td>\n",
       "      <td>Ontario</td>\n",
       "      <td>https://insolvencyinsider.ca/filing/silicon-va...</td>\n",
       "    </tr>\n",
       "    <tr>\n",
       "      <th>11</th>\n",
       "      <td>1194038 Alberta Ltd.</td>\n",
       "      <td>2023-03-15</td>\n",
       "      <td>Receivership</td>\n",
       "      <td>Real Estate</td>\n",
       "      <td>Alberta</td>\n",
       "      <td>https://insolvencyinsider.ca/filing/1194038-al...</td>\n",
       "    </tr>\n",
       "    <tr>\n",
       "      <th>12</th>\n",
       "      <td>Harry Sherman Crowe Housing Co-operative Inc.</td>\n",
       "      <td>2023-03-14</td>\n",
       "      <td>Receivership</td>\n",
       "      <td>Other</td>\n",
       "      <td>Ontario</td>\n",
       "      <td>https://insolvencyinsider.ca/filing/harry-sher...</td>\n",
       "    </tr>\n",
       "    <tr>\n",
       "      <th>13</th>\n",
       "      <td>Allexcor Global Inc.</td>\n",
       "      <td>2023-03-13</td>\n",
       "      <td>Bankruptcy</td>\n",
       "      <td>Other</td>\n",
       "      <td>Quebec</td>\n",
       "      <td>https://insolvencyinsider.ca/filing/allexcor-g...</td>\n",
       "    </tr>\n",
       "    <tr>\n",
       "      <th>14</th>\n",
       "      <td>LoyaltyOne, Co. (dba AIR MILES®)</td>\n",
       "      <td>2023-03-10</td>\n",
       "      <td>CCAA</td>\n",
       "      <td>Other</td>\n",
       "      <td>Ontario</td>\n",
       "      <td>https://insolvencyinsider.ca/filing/loyaltyone...</td>\n",
       "    </tr>\n",
       "    <tr>\n",
       "      <th>15</th>\n",
       "      <td>CanWest Aerospace Inc. and Can West Global Air...</td>\n",
       "      <td>2023-03-08</td>\n",
       "      <td>CCAA</td>\n",
       "      <td>Professional Services</td>\n",
       "      <td>British Columbia</td>\n",
       "      <td>https://insolvencyinsider.ca/filing/canwest-ae...</td>\n",
       "    </tr>\n",
       "    <tr>\n",
       "      <th>16</th>\n",
       "      <td>Dynamic Technologies Inc. et al. (collectively...</td>\n",
       "      <td>2023-03-08</td>\n",
       "      <td>CCAA</td>\n",
       "      <td>Professional Services</td>\n",
       "      <td>Alberta</td>\n",
       "      <td>https://insolvencyinsider.ca/filing/dynamic-te...</td>\n",
       "    </tr>\n",
       "    <tr>\n",
       "      <th>17</th>\n",
       "      <td>Candre Cannabis Inc.</td>\n",
       "      <td>2023-03-06</td>\n",
       "      <td>Receivership</td>\n",
       "      <td>Cannabis</td>\n",
       "      <td>Alberta</td>\n",
       "      <td>https://insolvencyinsider.ca/filing/candre-can...</td>\n",
       "    </tr>\n",
       "    <tr>\n",
       "      <th>18</th>\n",
       "      <td>B.S.K. Group Inc.</td>\n",
       "      <td>2023-03-03</td>\n",
       "      <td>NOI</td>\n",
       "      <td>Retail</td>\n",
       "      <td>Quebec</td>\n",
       "      <td>https://insolvencyinsider.ca/filing/b-s-k-grou...</td>\n",
       "    </tr>\n",
       "    <tr>\n",
       "      <th>19</th>\n",
       "      <td>Magna Gold Corp</td>\n",
       "      <td>2023-03-03</td>\n",
       "      <td>NOI</td>\n",
       "      <td>Mining</td>\n",
       "      <td>Ontario</td>\n",
       "      <td>https://insolvencyinsider.ca/filing/magna-gold...</td>\n",
       "    </tr>\n",
       "    <tr>\n",
       "      <th>20</th>\n",
       "      <td>IE CA 3 Holdings Limited and IE CA 4 Holdings ...</td>\n",
       "      <td>2023-03-02</td>\n",
       "      <td>Receivership</td>\n",
       "      <td>Financial Services</td>\n",
       "      <td>British Columbia</td>\n",
       "      <td>https://insolvencyinsider.ca/filing/ie-ca-3-ho...</td>\n",
       "    </tr>\n",
       "    <tr>\n",
       "      <th>21</th>\n",
       "      <td>Nordstrom Canada Retail, Inc., Nordstrom Canad...</td>\n",
       "      <td>2023-03-02</td>\n",
       "      <td>CCAA</td>\n",
       "      <td>Retail</td>\n",
       "      <td>British Columbia</td>\n",
       "      <td>https://insolvencyinsider.ca/filing/nordstrom-...</td>\n",
       "    </tr>\n",
       "    <tr>\n",
       "      <th>22</th>\n",
       "      <td>First Swiss Mortgage Corp</td>\n",
       "      <td>2023-03-01</td>\n",
       "      <td>Receivership</td>\n",
       "      <td>Financial Services</td>\n",
       "      <td>Ontario</td>\n",
       "      <td>https://insolvencyinsider.ca/filing/first-swis...</td>\n",
       "    </tr>\n",
       "    <tr>\n",
       "      <th>23</th>\n",
       "      <td>Merit Functional Foods Corporation</td>\n",
       "      <td>2023-03-01</td>\n",
       "      <td>Receivership</td>\n",
       "      <td>Food &amp; Accommodation</td>\n",
       "      <td>Manitoba</td>\n",
       "      <td>https://insolvencyinsider.ca/filing/merit-func...</td>\n",
       "    </tr>\n",
       "    <tr>\n",
       "      <th>24</th>\n",
       "      <td>Rambler Metals and Mining Canada Inc. and 1948...</td>\n",
       "      <td>2023-02-27</td>\n",
       "      <td>CCAA</td>\n",
       "      <td>Mining</td>\n",
       "      <td>Newfoundland</td>\n",
       "      <td>https://insolvencyinsider.ca/filing/rambler-me...</td>\n",
       "    </tr>\n",
       "    <tr>\n",
       "      <th>25</th>\n",
       "      <td>Les Entreprises en Électricité Gavin Inc.</td>\n",
       "      <td>2023-02-27</td>\n",
       "      <td>NOI</td>\n",
       "      <td>Professional Services</td>\n",
       "      <td>Quebec</td>\n",
       "      <td>https://insolvencyinsider.ca/filing/les-entrep...</td>\n",
       "    </tr>\n",
       "    <tr>\n",
       "      <th>26</th>\n",
       "      <td>11157353 Canada Corporation</td>\n",
       "      <td>2023-02-21</td>\n",
       "      <td>Receivership</td>\n",
       "      <td>Cannabis</td>\n",
       "      <td>Ontario</td>\n",
       "      <td>https://insolvencyinsider.ca/filing/11157353-c...</td>\n",
       "    </tr>\n",
       "    <tr>\n",
       "      <th>27</th>\n",
       "      <td>2549032 Ontario Inc.</td>\n",
       "      <td>2023-02-17</td>\n",
       "      <td>Bankruptcy</td>\n",
       "      <td>Other</td>\n",
       "      <td>Ontario</td>\n",
       "      <td>https://insolvencyinsider.ca/filing/2549032-on...</td>\n",
       "    </tr>\n",
       "    <tr>\n",
       "      <th>28</th>\n",
       "      <td>Southview Gardens BT Ltd., Southview Gardens L...</td>\n",
       "      <td>2023-02-16</td>\n",
       "      <td>Receivership</td>\n",
       "      <td>Real Estate</td>\n",
       "      <td>British Columbia</td>\n",
       "      <td>https://insolvencyinsider.ca/filing/southview-...</td>\n",
       "    </tr>\n",
       "    <tr>\n",
       "      <th>29</th>\n",
       "      <td>Global HVAC &amp; Automation Inc.</td>\n",
       "      <td>2023-02-14</td>\n",
       "      <td>Bankruptcy</td>\n",
       "      <td>Professional Services</td>\n",
       "      <td>Ontario</td>\n",
       "      <td>https://insolvencyinsider.ca/filing/global-hva...</td>\n",
       "    </tr>\n",
       "    <tr>\n",
       "      <th>30</th>\n",
       "      <td>Arehada Mining Limited</td>\n",
       "      <td>2023-02-10</td>\n",
       "      <td>Bankruptcy</td>\n",
       "      <td>Mining</td>\n",
       "      <td>Ontario</td>\n",
       "      <td>https://insolvencyinsider.ca/filing/arehada-mi...</td>\n",
       "    </tr>\n",
       "    <tr>\n",
       "      <th>31</th>\n",
       "      <td>SpaceRyde Inc.</td>\n",
       "      <td>2023-02-10</td>\n",
       "      <td>Bankruptcy</td>\n",
       "      <td>Technology</td>\n",
       "      <td>Ontario</td>\n",
       "      <td>https://insolvencyinsider.ca/filing/spaceryde-...</td>\n",
       "    </tr>\n",
       "    <tr>\n",
       "      <th>32</th>\n",
       "      <td>Polar Window of Canada Ltd. et al. (collective...</td>\n",
       "      <td>2023-02-10</td>\n",
       "      <td>CCAA</td>\n",
       "      <td>Distribution</td>\n",
       "      <td>Manitoba</td>\n",
       "      <td>https://insolvencyinsider.ca/filing/polar-wind...</td>\n",
       "    </tr>\n",
       "    <tr>\n",
       "      <th>33</th>\n",
       "      <td>BBB Canada Ltd.</td>\n",
       "      <td>2023-02-10</td>\n",
       "      <td>CCAA</td>\n",
       "      <td>Retail</td>\n",
       "      <td>Ontario</td>\n",
       "      <td>https://insolvencyinsider.ca/filing/bbb-canada...</td>\n",
       "    </tr>\n",
       "    <tr>\n",
       "      <th>34</th>\n",
       "      <td>Forex Inc., Forex Amos Inc. and Wawa OSB Inc. ...</td>\n",
       "      <td>2023-02-08</td>\n",
       "      <td>CCAA</td>\n",
       "      <td>Manufacturing</td>\n",
       "      <td>Quebec</td>\n",
       "      <td>https://insolvencyinsider.ca/filing/forex-inc-...</td>\n",
       "    </tr>\n",
       "    <tr>\n",
       "      <th>35</th>\n",
       "      <td>Kivuto Solutions Inc.</td>\n",
       "      <td>2023-02-07</td>\n",
       "      <td>Receivership</td>\n",
       "      <td>Technology</td>\n",
       "      <td>Ontario</td>\n",
       "      <td>https://insolvencyinsider.ca/filing/kivuto-sol...</td>\n",
       "    </tr>\n",
       "    <tr>\n",
       "      <th>36</th>\n",
       "      <td>SMRT Labs Inc.</td>\n",
       "      <td>2023-02-06</td>\n",
       "      <td>Bankruptcy</td>\n",
       "      <td>Technology</td>\n",
       "      <td>Ontario</td>\n",
       "      <td>https://insolvencyinsider.ca/filing/smrt-labs-...</td>\n",
       "    </tr>\n",
       "    <tr>\n",
       "      <th>37</th>\n",
       "      <td>Original Traders Energy Ltd. et al.</td>\n",
       "      <td>2023-01-30</td>\n",
       "      <td>CCAA</td>\n",
       "      <td>Oil and Gas</td>\n",
       "      <td>Ontario</td>\n",
       "      <td>https://insolvencyinsider.ca/filing/original-t...</td>\n",
       "    </tr>\n",
       "    <tr>\n",
       "      <th>38</th>\n",
       "      <td>Goldenkey Oil Inc.</td>\n",
       "      <td>2023-01-29</td>\n",
       "      <td>NOI</td>\n",
       "      <td>Oil and Gas</td>\n",
       "      <td>Alberta</td>\n",
       "      <td>https://insolvencyinsider.ca/filing/goldenkey-...</td>\n",
       "    </tr>\n",
       "    <tr>\n",
       "      <th>39</th>\n",
       "      <td>Acerus Pharmaceuticals Corporation (TSX:ASP) e...</td>\n",
       "      <td>2023-01-26</td>\n",
       "      <td>CCAA</td>\n",
       "      <td>Healthcare</td>\n",
       "      <td>Ontario</td>\n",
       "      <td>https://insolvencyinsider.ca/filing/acerus-pha...</td>\n",
       "    </tr>\n",
       "    <tr>\n",
       "      <th>40</th>\n",
       "      <td>Tehama Inc.</td>\n",
       "      <td>2023-01-20</td>\n",
       "      <td>CCAA</td>\n",
       "      <td>Technology</td>\n",
       "      <td>Ontario</td>\n",
       "      <td>https://insolvencyinsider.ca/filing/tehama-inc/</td>\n",
       "    </tr>\n",
       "    <tr>\n",
       "      <th>41</th>\n",
       "      <td>Spektrum Glasses Inc.</td>\n",
       "      <td>2023-01-20</td>\n",
       "      <td>Receivership</td>\n",
       "      <td>Distribution</td>\n",
       "      <td>Ontario</td>\n",
       "      <td>https://insolvencyinsider.ca/filing/spektrum-g...</td>\n",
       "    </tr>\n",
       "    <tr>\n",
       "      <th>42</th>\n",
       "      <td>Les Investissements de L’Estrie inc. et al. (“...</td>\n",
       "      <td>2023-01-20</td>\n",
       "      <td>CCAA</td>\n",
       "      <td>Real Estate</td>\n",
       "      <td>Quebec</td>\n",
       "      <td>https://insolvencyinsider.ca/filing/les-invest...</td>\n",
       "    </tr>\n",
       "    <tr>\n",
       "      <th>43</th>\n",
       "      <td>181 Davenport Retail Inc. (“181 Retail”), a re...</td>\n",
       "      <td>2023-01-19</td>\n",
       "      <td>Receivership</td>\n",
       "      <td>Real Estate</td>\n",
       "      <td>Ontario</td>\n",
       "      <td>https://insolvencyinsider.ca/filing/181-davenp...</td>\n",
       "    </tr>\n",
       "    <tr>\n",
       "      <th>44</th>\n",
       "      <td>GTA Plumbing Limited (“GTA”)</td>\n",
       "      <td>2023-01-18</td>\n",
       "      <td>Proposal</td>\n",
       "      <td>Professional Services</td>\n",
       "      <td>Ontario</td>\n",
       "      <td>https://insolvencyinsider.ca/filing/gta-plumbi...</td>\n",
       "    </tr>\n",
       "    <tr>\n",
       "      <th>45</th>\n",
       "      <td>Lakeside Produce Inc.</td>\n",
       "      <td>2023-01-17</td>\n",
       "      <td>Bankruptcy</td>\n",
       "      <td>Agriculture</td>\n",
       "      <td>Ontario</td>\n",
       "      <td>https://insolvencyinsider.ca/filing/lakeside-p...</td>\n",
       "    </tr>\n",
       "    <tr>\n",
       "      <th>46</th>\n",
       "      <td>The Very Good Food Company Inc. et al.</td>\n",
       "      <td>2023-01-16</td>\n",
       "      <td>Receivership</td>\n",
       "      <td>Manufacturing</td>\n",
       "      <td>British Columbia</td>\n",
       "      <td>https://insolvencyinsider.ca/filing/the-very-g...</td>\n",
       "    </tr>\n",
       "    <tr>\n",
       "      <th>47</th>\n",
       "      <td>Inscape Corporation (TSX:INQ), Inscape (New Yo...</td>\n",
       "      <td>2023-01-12</td>\n",
       "      <td>CCAA</td>\n",
       "      <td>Manufacturing</td>\n",
       "      <td>Ontario</td>\n",
       "      <td>https://insolvencyinsider.ca/filing/inscape-co...</td>\n",
       "    </tr>\n",
       "    <tr>\n",
       "      <th>48</th>\n",
       "      <td>Bloom Health Partners Inc. (CSE:BLMH)</td>\n",
       "      <td>2023-01-03</td>\n",
       "      <td>Receivership</td>\n",
       "      <td>Healthcare</td>\n",
       "      <td>British Columbia</td>\n",
       "      <td>https://insolvencyinsider.ca/filing/bloom-heal...</td>\n",
       "    </tr>\n",
       "    <tr>\n",
       "      <th>49</th>\n",
       "      <td>Laboratoires Bodycad inc.</td>\n",
       "      <td>2022-12-22</td>\n",
       "      <td>CCAA</td>\n",
       "      <td>Healthcare</td>\n",
       "      <td>Quebec</td>\n",
       "      <td>https://insolvencyinsider.ca/filing/laboratoir...</td>\n",
       "    </tr>\n",
       "    <tr>\n",
       "      <th>50</th>\n",
       "      <td>Ratnas Gas Inc. and Ratnas Property Investment...</td>\n",
       "      <td>2022-12-21</td>\n",
       "      <td>Receivership</td>\n",
       "      <td>Oil and Gas</td>\n",
       "      <td>Ontario</td>\n",
       "      <td>https://insolvencyinsider.ca/filing/ratnas-gas...</td>\n",
       "    </tr>\n",
       "    <tr>\n",
       "      <th>51</th>\n",
       "      <td>9379-8676 Québec Inc. o/a Wilsons Leasing</td>\n",
       "      <td>2022-12-21</td>\n",
       "      <td>Receivership</td>\n",
       "      <td>Automotive</td>\n",
       "      <td>Quebec</td>\n",
       "      <td>https://insolvencyinsider.ca/filing/9379-8676-...</td>\n",
       "    </tr>\n",
       "    <tr>\n",
       "      <th>52</th>\n",
       "      <td>Brant Instore Corporation</td>\n",
       "      <td>2022-12-20</td>\n",
       "      <td>Receivership</td>\n",
       "      <td>Printing</td>\n",
       "      <td>Ontario</td>\n",
       "      <td>https://insolvencyinsider.ca/filing/brant-inst...</td>\n",
       "    </tr>\n",
       "    <tr>\n",
       "      <th>53</th>\n",
       "      <td>DCL Corporation</td>\n",
       "      <td>2022-12-20</td>\n",
       "      <td>CCAA</td>\n",
       "      <td>Distribution</td>\n",
       "      <td>Ontario</td>\n",
       "      <td>https://insolvencyinsider.ca/filing/dcl-corpor...</td>\n",
       "    </tr>\n",
       "    <tr>\n",
       "      <th>54</th>\n",
       "      <td>Geyser Brands Inc.</td>\n",
       "      <td>2022-12-16</td>\n",
       "      <td>Receivership</td>\n",
       "      <td>Cannabis</td>\n",
       "      <td>British Columbia</td>\n",
       "      <td>https://insolvencyinsider.ca/filing/geyser-bra...</td>\n",
       "    </tr>\n",
       "    <tr>\n",
       "      <th>55</th>\n",
       "      <td>2244039 Ontario Inc. and 1526400 Ontario Inc.</td>\n",
       "      <td>2022-12-14</td>\n",
       "      <td>Receivership</td>\n",
       "      <td>Oil and Gas</td>\n",
       "      <td>Ontario</td>\n",
       "      <td>https://insolvencyinsider.ca/filing/2244039-on...</td>\n",
       "    </tr>\n",
       "    <tr>\n",
       "      <th>56</th>\n",
       "      <td>2399430 Alberta Ltd. and 2399449 Alberta Ltd.</td>\n",
       "      <td>2022-12-13</td>\n",
       "      <td>Receivership</td>\n",
       "      <td>Other</td>\n",
       "      <td>Alberta</td>\n",
       "      <td>https://insolvencyinsider.ca/filing/2399430-al...</td>\n",
       "    </tr>\n",
       "    <tr>\n",
       "      <th>57</th>\n",
       "      <td>Forage M3 Drilling Services Inc.</td>\n",
       "      <td>2022-12-09</td>\n",
       "      <td>Bankruptcy</td>\n",
       "      <td>Mining</td>\n",
       "      <td>Ontario</td>\n",
       "      <td>https://insolvencyinsider.ca/filing/forage-m3-...</td>\n",
       "    </tr>\n",
       "    <tr>\n",
       "      <th>58</th>\n",
       "      <td>Galarneau Entrepreneur Général Inc.</td>\n",
       "      <td>2022-12-09</td>\n",
       "      <td>NOI</td>\n",
       "      <td>Professional Services</td>\n",
       "      <td>Quebec</td>\n",
       "      <td>https://insolvencyinsider.ca/filing/galarneau-...</td>\n",
       "    </tr>\n",
       "    <tr>\n",
       "      <th>59</th>\n",
       "      <td>941996 Alberta Ltd. (“941 AB”)</td>\n",
       "      <td>2022-12-08</td>\n",
       "      <td>Liquidation</td>\n",
       "      <td>Other</td>\n",
       "      <td>Alberta</td>\n",
       "      <td>https://insolvencyinsider.ca/filing/941996-alb...</td>\n",
       "    </tr>\n",
       "  </tbody>\n",
       "</table>\n",
       "</div>"
      ],
      "text/plain": [
       "                                          Filing Name Filing Date  \\\n",
       "0                              GreenSpace Brands Inc.  2023-04-06   \n",
       "1                         Phoena Holdings Inc. et al.  2023-04-04   \n",
       "2                                   JMD-M Canada Inc.  2023-03-31   \n",
       "3                                        RenoRun Inc.  2023-03-27   \n",
       "4    FlexITy Solutions Inc. and FlexITy Holdings Inc.  2023-03-27   \n",
       "5                                     Magna Gold Corp  2023-03-27   \n",
       "6            Field Trip Health & Wellness Ltd. et al.  2023-03-23   \n",
       "7   Radient Technologies Inc., Radient Technologie...  2023-03-21   \n",
       "8                           Canada Drives Ltd. et al.  2023-03-20   \n",
       "9                               5684961 Manitoba Ltd.  2023-03-17   \n",
       "10               Silicon Valley Bank (Canada) (“SVB”)  2023-03-15   \n",
       "11                               1194038 Alberta Ltd.  2023-03-15   \n",
       "12      Harry Sherman Crowe Housing Co-operative Inc.  2023-03-14   \n",
       "13                               Allexcor Global Inc.  2023-03-13   \n",
       "14                   LoyaltyOne, Co. (dba AIR MILES®)  2023-03-10   \n",
       "15  CanWest Aerospace Inc. and Can West Global Air...  2023-03-08   \n",
       "16  Dynamic Technologies Inc. et al. (collectively...  2023-03-08   \n",
       "17                               Candre Cannabis Inc.  2023-03-06   \n",
       "18                                  B.S.K. Group Inc.  2023-03-03   \n",
       "19                                    Magna Gold Corp  2023-03-03   \n",
       "20  IE CA 3 Holdings Limited and IE CA 4 Holdings ...  2023-03-02   \n",
       "21  Nordstrom Canada Retail, Inc., Nordstrom Canad...  2023-03-02   \n",
       "22                          First Swiss Mortgage Corp  2023-03-01   \n",
       "23                 Merit Functional Foods Corporation  2023-03-01   \n",
       "24  Rambler Metals and Mining Canada Inc. and 1948...  2023-02-27   \n",
       "25          Les Entreprises en Électricité Gavin Inc.  2023-02-27   \n",
       "26                        11157353 Canada Corporation  2023-02-21   \n",
       "27                               2549032 Ontario Inc.  2023-02-17   \n",
       "28  Southview Gardens BT Ltd., Southview Gardens L...  2023-02-16   \n",
       "29                      Global HVAC & Automation Inc.  2023-02-14   \n",
       "30                             Arehada Mining Limited  2023-02-10   \n",
       "31                                     SpaceRyde Inc.  2023-02-10   \n",
       "32  Polar Window of Canada Ltd. et al. (collective...  2023-02-10   \n",
       "33                                    BBB Canada Ltd.  2023-02-10   \n",
       "34  Forex Inc., Forex Amos Inc. and Wawa OSB Inc. ...  2023-02-08   \n",
       "35                              Kivuto Solutions Inc.  2023-02-07   \n",
       "36                                     SMRT Labs Inc.  2023-02-06   \n",
       "37                Original Traders Energy Ltd. et al.  2023-01-30   \n",
       "38                                 Goldenkey Oil Inc.  2023-01-29   \n",
       "39  Acerus Pharmaceuticals Corporation (TSX:ASP) e...  2023-01-26   \n",
       "40                                        Tehama Inc.  2023-01-20   \n",
       "41                              Spektrum Glasses Inc.  2023-01-20   \n",
       "42  Les Investissements de L’Estrie inc. et al. (“...  2023-01-20   \n",
       "43  181 Davenport Retail Inc. (“181 Retail”), a re...  2023-01-19   \n",
       "44                       GTA Plumbing Limited (“GTA”)  2023-01-18   \n",
       "45                              Lakeside Produce Inc.  2023-01-17   \n",
       "46             The Very Good Food Company Inc. et al.  2023-01-16   \n",
       "47  Inscape Corporation (TSX:INQ), Inscape (New Yo...  2023-01-12   \n",
       "48              Bloom Health Partners Inc. (CSE:BLMH)  2023-01-03   \n",
       "49                          Laboratoires Bodycad inc.  2022-12-22   \n",
       "50  Ratnas Gas Inc. and Ratnas Property Investment...  2022-12-21   \n",
       "51          9379-8676 Québec Inc. o/a Wilsons Leasing  2022-12-21   \n",
       "52                          Brant Instore Corporation  2022-12-20   \n",
       "53                                    DCL Corporation  2022-12-20   \n",
       "54                                 Geyser Brands Inc.  2022-12-16   \n",
       "55      2244039 Ontario Inc. and 1526400 Ontario Inc.  2022-12-14   \n",
       "56      2399430 Alberta Ltd. and 2399449 Alberta Ltd.  2022-12-13   \n",
       "57                   Forage M3 Drilling Services Inc.  2022-12-09   \n",
       "58                Galarneau Entrepreneur Général Inc.  2022-12-09   \n",
       "59                     941996 Alberta Ltd. (“941 AB”)  2022-12-08   \n",
       "\n",
       "      Filing Type                Industry           Province  \\\n",
       "0            CCAA    Food & Accommodation            Ontario   \n",
       "1            CCAA                Cannabis            Ontario   \n",
       "2    Receivership             Oil and Gas            Ontario   \n",
       "3             NOI          Transportation             Quebec   \n",
       "4             NOI              Technology            Ontario   \n",
       "5            CCAA                  Mining            Ontario   \n",
       "6            CCAA              Healthcare            Ontario   \n",
       "7    Receivership                Cannabis            Alberta   \n",
       "8            CCAA              Automotive   British Columbia   \n",
       "9    Receivership             Real Estate           Manitoba   \n",
       "10    Liquidation      Financial Services            Ontario   \n",
       "11   Receivership             Real Estate            Alberta   \n",
       "12   Receivership                   Other            Ontario   \n",
       "13     Bankruptcy                   Other             Quebec   \n",
       "14           CCAA                   Other            Ontario   \n",
       "15           CCAA   Professional Services   British Columbia   \n",
       "16           CCAA   Professional Services            Alberta   \n",
       "17   Receivership                Cannabis            Alberta   \n",
       "18            NOI                  Retail             Quebec   \n",
       "19            NOI                  Mining            Ontario   \n",
       "20   Receivership      Financial Services   British Columbia   \n",
       "21           CCAA                  Retail   British Columbia   \n",
       "22   Receivership      Financial Services            Ontario   \n",
       "23   Receivership    Food & Accommodation           Manitoba   \n",
       "24           CCAA                  Mining       Newfoundland   \n",
       "25            NOI   Professional Services             Quebec   \n",
       "26   Receivership                Cannabis            Ontario   \n",
       "27     Bankruptcy                   Other            Ontario   \n",
       "28   Receivership             Real Estate   British Columbia   \n",
       "29     Bankruptcy   Professional Services            Ontario   \n",
       "30     Bankruptcy                  Mining            Ontario   \n",
       "31     Bankruptcy              Technology            Ontario   \n",
       "32           CCAA            Distribution           Manitoba   \n",
       "33           CCAA                  Retail            Ontario   \n",
       "34           CCAA           Manufacturing             Quebec   \n",
       "35   Receivership              Technology            Ontario   \n",
       "36     Bankruptcy              Technology            Ontario   \n",
       "37           CCAA             Oil and Gas            Ontario   \n",
       "38            NOI             Oil and Gas            Alberta   \n",
       "39           CCAA              Healthcare            Ontario   \n",
       "40           CCAA              Technology            Ontario   \n",
       "41   Receivership            Distribution            Ontario   \n",
       "42           CCAA             Real Estate             Quebec   \n",
       "43   Receivership             Real Estate            Ontario   \n",
       "44       Proposal   Professional Services            Ontario   \n",
       "45     Bankruptcy             Agriculture            Ontario   \n",
       "46   Receivership           Manufacturing   British Columbia   \n",
       "47           CCAA           Manufacturing            Ontario   \n",
       "48   Receivership              Healthcare   British Columbia   \n",
       "49           CCAA              Healthcare             Quebec   \n",
       "50   Receivership             Oil and Gas            Ontario   \n",
       "51   Receivership              Automotive             Quebec   \n",
       "52   Receivership                Printing            Ontario   \n",
       "53           CCAA            Distribution            Ontario   \n",
       "54   Receivership                Cannabis   British Columbia   \n",
       "55   Receivership             Oil and Gas            Ontario   \n",
       "56   Receivership                   Other            Alberta   \n",
       "57     Bankruptcy                  Mining            Ontario   \n",
       "58            NOI   Professional Services             Quebec   \n",
       "59    Liquidation                   Other            Alberta   \n",
       "\n",
       "                                                 Link  \n",
       "0   https://insolvencyinsider.ca/filing/greenspace...  \n",
       "1   https://insolvencyinsider.ca/filing/phoena-hol...  \n",
       "2   https://insolvencyinsider.ca/filing/jmd-m-cana...  \n",
       "3    https://insolvencyinsider.ca/filing/renorun-inc/  \n",
       "4   https://insolvencyinsider.ca/filing/flexity-so...  \n",
       "5   https://insolvencyinsider.ca/filing/magna-gold...  \n",
       "6   https://insolvencyinsider.ca/filing/field-trip...  \n",
       "7   https://insolvencyinsider.ca/filing/radient-te...  \n",
       "8   https://insolvencyinsider.ca/filing/canada-dri...  \n",
       "9   https://insolvencyinsider.ca/filing/5684961-ma...  \n",
       "10  https://insolvencyinsider.ca/filing/silicon-va...  \n",
       "11  https://insolvencyinsider.ca/filing/1194038-al...  \n",
       "12  https://insolvencyinsider.ca/filing/harry-sher...  \n",
       "13  https://insolvencyinsider.ca/filing/allexcor-g...  \n",
       "14  https://insolvencyinsider.ca/filing/loyaltyone...  \n",
       "15  https://insolvencyinsider.ca/filing/canwest-ae...  \n",
       "16  https://insolvencyinsider.ca/filing/dynamic-te...  \n",
       "17  https://insolvencyinsider.ca/filing/candre-can...  \n",
       "18  https://insolvencyinsider.ca/filing/b-s-k-grou...  \n",
       "19  https://insolvencyinsider.ca/filing/magna-gold...  \n",
       "20  https://insolvencyinsider.ca/filing/ie-ca-3-ho...  \n",
       "21  https://insolvencyinsider.ca/filing/nordstrom-...  \n",
       "22  https://insolvencyinsider.ca/filing/first-swis...  \n",
       "23  https://insolvencyinsider.ca/filing/merit-func...  \n",
       "24  https://insolvencyinsider.ca/filing/rambler-me...  \n",
       "25  https://insolvencyinsider.ca/filing/les-entrep...  \n",
       "26  https://insolvencyinsider.ca/filing/11157353-c...  \n",
       "27  https://insolvencyinsider.ca/filing/2549032-on...  \n",
       "28  https://insolvencyinsider.ca/filing/southview-...  \n",
       "29  https://insolvencyinsider.ca/filing/global-hva...  \n",
       "30  https://insolvencyinsider.ca/filing/arehada-mi...  \n",
       "31  https://insolvencyinsider.ca/filing/spaceryde-...  \n",
       "32  https://insolvencyinsider.ca/filing/polar-wind...  \n",
       "33  https://insolvencyinsider.ca/filing/bbb-canada...  \n",
       "34  https://insolvencyinsider.ca/filing/forex-inc-...  \n",
       "35  https://insolvencyinsider.ca/filing/kivuto-sol...  \n",
       "36  https://insolvencyinsider.ca/filing/smrt-labs-...  \n",
       "37  https://insolvencyinsider.ca/filing/original-t...  \n",
       "38  https://insolvencyinsider.ca/filing/goldenkey-...  \n",
       "39  https://insolvencyinsider.ca/filing/acerus-pha...  \n",
       "40    https://insolvencyinsider.ca/filing/tehama-inc/  \n",
       "41  https://insolvencyinsider.ca/filing/spektrum-g...  \n",
       "42  https://insolvencyinsider.ca/filing/les-invest...  \n",
       "43  https://insolvencyinsider.ca/filing/181-davenp...  \n",
       "44  https://insolvencyinsider.ca/filing/gta-plumbi...  \n",
       "45  https://insolvencyinsider.ca/filing/lakeside-p...  \n",
       "46  https://insolvencyinsider.ca/filing/the-very-g...  \n",
       "47  https://insolvencyinsider.ca/filing/inscape-co...  \n",
       "48  https://insolvencyinsider.ca/filing/bloom-heal...  \n",
       "49  https://insolvencyinsider.ca/filing/laboratoir...  \n",
       "50  https://insolvencyinsider.ca/filing/ratnas-gas...  \n",
       "51  https://insolvencyinsider.ca/filing/9379-8676-...  \n",
       "52  https://insolvencyinsider.ca/filing/brant-inst...  \n",
       "53  https://insolvencyinsider.ca/filing/dcl-corpor...  \n",
       "54  https://insolvencyinsider.ca/filing/geyser-bra...  \n",
       "55  https://insolvencyinsider.ca/filing/2244039-on...  \n",
       "56  https://insolvencyinsider.ca/filing/2399430-al...  \n",
       "57  https://insolvencyinsider.ca/filing/forage-m3-...  \n",
       "58  https://insolvencyinsider.ca/filing/galarneau-...  \n",
       "59  https://insolvencyinsider.ca/filing/941996-alb...  "
      ]
     },
     "execution_count": 19,
     "metadata": {},
     "output_type": "execute_result"
    }
   ],
   "source": [
    "df"
   ]
  },
  {
   "cell_type": "markdown",
   "metadata": {},
   "source": [
    "------------------------"
   ]
  },
  {
   "cell_type": "markdown",
   "metadata": {},
   "source": [
    "# Ahora algo más visual"
   ]
  },
  {
   "cell_type": "code",
   "execution_count": 22,
   "metadata": {},
   "outputs": [
    {
     "name": "stderr",
     "output_type": "stream",
     "text": [
      "C:\\Users\\lydia\\AppData\\Roaming\\Python\\Python37\\site-packages\\ipykernel_launcher.py:1: DeprecationWarning: executable_path has been deprecated, please pass in a Service object\n",
      "  \"\"\"Entry point for launching an IPython kernel.\n"
     ]
    }
   ],
   "source": [
    "driver = webdriver.Chrome(executable_path = chrome_driver_path, options = options)"
   ]
  },
  {
   "cell_type": "code",
   "execution_count": 23,
   "metadata": {},
   "outputs": [],
   "source": [
    "# indicamos la URL de la página web a la que queremos acceder:\n",
    "url = 'https://www.filmaffinity.com/es/main.html'\n",
    "# el objeto driver nos va a permitir alterar el estado del la página\n",
    "driver.get(url)"
   ]
  },
  {
   "cell_type": "markdown",
   "metadata": {},
   "source": [
    "La página de Filmaffinity se ha abierto"
   ]
  },
  {
   "cell_type": "markdown",
   "metadata": {},
   "source": [
    "Pero...."
   ]
  },
  {
   "cell_type": "markdown",
   "metadata": {},
   "source": [
    "Nos hemos encontrado con un pop-up que nos pide aceptar cookies"
   ]
  },
  {
   "cell_type": "markdown",
   "metadata": {},
   "source": [
    "1. Buscamos el botón\n",
    "2. Hacemos click en el botón"
   ]
  },
  {
   "cell_type": "markdown",
   "metadata": {},
   "source": [
    "Vamos a quitar el boton para seguir"
   ]
  },
  {
   "cell_type": "code",
   "execution_count": 24,
   "metadata": {
    "ExecuteTime": {
     "end_time": "2021-02-26T10:22:48.546287Z",
     "start_time": "2021-02-26T10:22:48.489040Z"
    }
   },
   "outputs": [
    {
     "name": "stderr",
     "output_type": "stream",
     "text": [
      "C:\\Users\\lydia\\AppData\\Roaming\\Python\\Python37\\site-packages\\ipykernel_launcher.py:1: DeprecationWarning: find_elements_by_* commands are deprecated. Please use find_elements() instead\n",
      "  \"\"\"Entry point for launching an IPython kernel.\n",
      "C:\\Users\\lydia\\AppData\\Roaming\\Python\\Python37\\site-packages\\ipykernel_launcher.py:2: DeprecationWarning: find_elements_by_* commands are deprecated. Please use find_elements() instead\n",
      "  \n",
      "C:\\Users\\lydia\\AppData\\Roaming\\Python\\Python37\\site-packages\\ipykernel_launcher.py:3: DeprecationWarning: find_element_by_* commands are deprecated. Please use find_element() instead\n",
      "  This is separate from the ipykernel package so we can avoid doing imports until\n"
     ]
    }
   ],
   "source": [
    "elements_by_tag = driver.find_elements_by_tag_name('button')\n",
    "elements_by_class_name = driver.find_elements_by_class_name('css-v43ltw')\n",
    "element_by_xpath = driver.find_element_by_xpath('/html/body/div[1]/div/div/div/div[2]/div/button[2]')"
   ]
  },
  {
   "cell_type": "markdown",
   "metadata": {},
   "source": [
    "Una vez tenemos los elementos podemos hacer varias cosas con ellos"
   ]
  },
  {
   "cell_type": "markdown",
   "metadata": {},
   "source": [
    "Podemos extraer todos los atributos que tenga"
   ]
  },
  {
   "cell_type": "code",
   "execution_count": 25,
   "metadata": {
    "ExecuteTime": {
     "end_time": "2021-02-26T10:22:51.542538Z",
     "start_time": "2021-02-26T10:22:51.508077Z"
    }
   },
   "outputs": [
    {
     "data": {
      "text/plain": [
       "['__abstractmethods__',\n",
       " '__class__',\n",
       " '__delattr__',\n",
       " '__dict__',\n",
       " '__dir__',\n",
       " '__doc__',\n",
       " '__eq__',\n",
       " '__format__',\n",
       " '__ge__',\n",
       " '__getattribute__',\n",
       " '__gt__',\n",
       " '__hash__',\n",
       " '__init__',\n",
       " '__init_subclass__',\n",
       " '__le__',\n",
       " '__lt__',\n",
       " '__module__',\n",
       " '__ne__',\n",
       " '__new__',\n",
       " '__reduce__',\n",
       " '__reduce_ex__',\n",
       " '__repr__',\n",
       " '__setattr__',\n",
       " '__sizeof__',\n",
       " '__str__',\n",
       " '__subclasshook__',\n",
       " '__weakref__',\n",
       " '_abc_impl',\n",
       " '_execute',\n",
       " '_id',\n",
       " '_parent',\n",
       " '_upload',\n",
       " 'accessible_name',\n",
       " 'aria_role',\n",
       " 'clear',\n",
       " 'click',\n",
       " 'find_element',\n",
       " 'find_element_by_class_name',\n",
       " 'find_element_by_css_selector',\n",
       " 'find_element_by_id',\n",
       " 'find_element_by_link_text',\n",
       " 'find_element_by_name',\n",
       " 'find_element_by_partial_link_text',\n",
       " 'find_element_by_tag_name',\n",
       " 'find_element_by_xpath',\n",
       " 'find_elements',\n",
       " 'find_elements_by_class_name',\n",
       " 'find_elements_by_css_selector',\n",
       " 'find_elements_by_id',\n",
       " 'find_elements_by_link_text',\n",
       " 'find_elements_by_name',\n",
       " 'find_elements_by_partial_link_text',\n",
       " 'find_elements_by_tag_name',\n",
       " 'find_elements_by_xpath',\n",
       " 'get_attribute',\n",
       " 'get_dom_attribute',\n",
       " 'get_property',\n",
       " 'id',\n",
       " 'is_displayed',\n",
       " 'is_enabled',\n",
       " 'is_selected',\n",
       " 'location',\n",
       " 'location_once_scrolled_into_view',\n",
       " 'parent',\n",
       " 'rect',\n",
       " 'screenshot',\n",
       " 'screenshot_as_base64',\n",
       " 'screenshot_as_png',\n",
       " 'send_keys',\n",
       " 'shadow_root',\n",
       " 'size',\n",
       " 'submit',\n",
       " 'tag_name',\n",
       " 'text',\n",
       " 'value_of_css_property']"
      ]
     },
     "execution_count": 25,
     "metadata": {},
     "output_type": "execute_result"
    }
   ],
   "source": [
    "dir(element_by_xpath)\n",
    "# obtenemos todos sus métodos y atributos:"
   ]
  },
  {
   "cell_type": "markdown",
   "metadata": {},
   "source": [
    "Podemos evaluar que tipo de elemento es (tag)"
   ]
  },
  {
   "cell_type": "code",
   "execution_count": 26,
   "metadata": {
    "ExecuteTime": {
     "end_time": "2021-02-26T10:22:53.325430Z",
     "start_time": "2021-02-26T10:22:53.306520Z"
    }
   },
   "outputs": [
    {
     "data": {
      "text/plain": [
       "'button'"
      ]
     },
     "execution_count": 26,
     "metadata": {},
     "output_type": "execute_result"
    }
   ],
   "source": [
    "element_by_xpath.tag_name"
   ]
  },
  {
   "cell_type": "markdown",
   "metadata": {},
   "source": [
    "Podemos sacar el valor que tiene (el texto)"
   ]
  },
  {
   "cell_type": "code",
   "execution_count": 27,
   "metadata": {
    "ExecuteTime": {
     "end_time": "2021-02-26T10:22:54.583190Z",
     "start_time": "2021-02-26T10:22:54.553596Z"
    }
   },
   "outputs": [
    {
     "data": {
      "text/plain": [
       "'ACEPTO'"
      ]
     },
     "execution_count": 27,
     "metadata": {},
     "output_type": "execute_result"
    }
   ],
   "source": [
    "element_by_xpath.text"
   ]
  },
  {
   "cell_type": "code",
   "execution_count": 28,
   "metadata": {},
   "outputs": [
    {
     "name": "stdout",
     "output_type": "stream",
     "text": [
      "socios\n",
      "MÁS OPCIONES\n",
      "ACEPTO\n"
     ]
    }
   ],
   "source": [
    "for i in range(0,len(elements_by_tag)):\n",
    "    print(elements_by_tag[i].text)"
   ]
  },
  {
   "cell_type": "markdown",
   "metadata": {},
   "source": [
    "Incluso podemos guardar una imagen del elemento"
   ]
  },
  {
   "cell_type": "code",
   "execution_count": 29,
   "metadata": {},
   "outputs": [
    {
     "data": {
      "text/plain": [
       "selenium.webdriver.remote.webelement.WebElement"
      ]
     },
     "execution_count": 29,
     "metadata": {},
     "output_type": "execute_result"
    }
   ],
   "source": [
    "type(element_by_xpath)\n",
    "# Vemos que es tipo 'WebElement' y en la documentación podremos encontrar sus métodos"
   ]
  },
  {
   "cell_type": "code",
   "execution_count": 30,
   "metadata": {
    "ExecuteTime": {
     "end_time": "2021-02-26T10:24:41.830050Z",
     "start_time": "2021-02-26T10:24:41.510086Z"
    }
   },
   "outputs": [
    {
     "data": {
      "text/plain": [
       "True"
      ]
     },
     "execution_count": 30,
     "metadata": {},
     "output_type": "execute_result"
    }
   ],
   "source": [
    "# guardamos como 'mi_imagen.png' la imagen asociada al xpath\n",
    "element_by_xpath.screenshot('mi_imagen.png')"
   ]
  },
  {
   "cell_type": "markdown",
   "metadata": {
    "ExecuteTime": {
     "end_time": "2021-02-25T09:56:21.322475Z",
     "start_time": "2021-02-25T09:56:21.318715Z"
    }
   },
   "source": [
    "Evaluamos que elementos hemos encontrado por el tag:"
   ]
  },
  {
   "cell_type": "code",
   "execution_count": 31,
   "metadata": {
    "ExecuteTime": {
     "end_time": "2021-02-25T10:40:47.561469Z",
     "start_time": "2021-02-25T10:40:46.812684Z"
    }
   },
   "outputs": [
    {
     "name": "stdout",
     "output_type": "stream",
     "text": [
      "Elemento: 0\n",
      "Texto del elemento 0 es socios\n",
      "El tag del elemento 0 es button\n",
      "Elemento: 1\n",
      "Texto del elemento 1 es MÁS OPCIONES\n",
      "El tag del elemento 1 es button\n",
      "Elemento: 2\n",
      "Texto del elemento 2 es ACEPTO\n",
      "El tag del elemento 2 es button\n"
     ]
    }
   ],
   "source": [
    "for index, element in enumerate(elements_by_tag):\n",
    "    print('Elemento:', index)\n",
    "    print('Texto del elemento',index, 'es', element.text)\n",
    "    print('El tag del elemento',index, 'es', element.tag_name)\n",
    "    element.screenshot('mi_imagen'+str(index)+'.png')"
   ]
  },
  {
   "cell_type": "markdown",
   "metadata": {},
   "source": [
    "Basta de tonterias seguimos"
   ]
  },
  {
   "cell_type": "markdown",
   "metadata": {},
   "source": [
    "Instanciamos el elemento del tag [2] en la variable boton aceptar"
   ]
  },
  {
   "cell_type": "code",
   "execution_count": 32,
   "metadata": {
    "ExecuteTime": {
     "end_time": "2021-02-26T10:24:47.302978Z",
     "start_time": "2021-02-26T10:24:47.291261Z"
    }
   },
   "outputs": [],
   "source": [
    "boton_aceptar = elements_by_tag[2]"
   ]
  },
  {
   "cell_type": "markdown",
   "metadata": {},
   "source": [
    "Si el elemento es interactivo podremos hacer más cosas además de las anteriores. Por ejemplo: hacer click"
   ]
  },
  {
   "cell_type": "code",
   "execution_count": 33,
   "metadata": {
    "ExecuteTime": {
     "end_time": "2021-02-26T10:24:48.611716Z",
     "start_time": "2021-02-26T10:24:48.390430Z"
    }
   },
   "outputs": [],
   "source": [
    "boton_aceptar.click()"
   ]
  },
  {
   "cell_type": "markdown",
   "metadata": {},
   "source": [
    "Buscamos una película por título"
   ]
  },
  {
   "cell_type": "code",
   "execution_count": 34,
   "metadata": {},
   "outputs": [],
   "source": [
    "from selenium.webdriver.common.keys import Keys"
   ]
  },
  {
   "cell_type": "markdown",
   "metadata": {},
   "source": [
    "/html/body/div[2]/div[1]/div/div[2]/form/div/input"
   ]
  },
  {
   "cell_type": "code",
   "execution_count": null,
   "metadata": {
    "ExecuteTime": {
     "end_time": "2021-02-26T10:28:14.592155Z",
     "start_time": "2021-02-26T10:28:13.509998Z"
    }
   },
   "outputs": [],
   "source": [
    "buscador = driver.find_element_by_xpath('')"
   ]
  },
  {
   "cell_type": "code",
   "execution_count": null,
   "metadata": {},
   "outputs": [],
   "source": [
    "buscador.send_keys('')"
   ]
  },
  {
   "cell_type": "code",
   "execution_count": null,
   "metadata": {},
   "outputs": [],
   "source": [
    "buscador.clear()"
   ]
  },
  {
   "cell_type": "code",
   "execution_count": null,
   "metadata": {},
   "outputs": [],
   "source": [
    "# una vez escrita la búsqueda deberíamos poder activarla:\n",
    "buscador.send_keys(Keys.ENTER)"
   ]
  },
  {
   "cell_type": "code",
   "execution_count": null,
   "metadata": {},
   "outputs": [],
   "source": [
    "# volvemos a la página anterior\n",
    "driver.back()"
   ]
  },
  {
   "cell_type": "markdown",
   "metadata": {
    "ExecuteTime": {
     "end_time": "2021-02-25T10:09:19.308961Z",
     "start_time": "2021-02-25T10:09:19.299983Z"
    }
   },
   "source": [
    "### Vamos a buscar todas las películas que se estrenan el próximo viernes"
   ]
  },
  {
   "cell_type": "markdown",
   "metadata": {},
   "source": [
    "1. Cogemos los containers que hay en la zona lateral"
   ]
  },
  {
   "cell_type": "code",
   "execution_count": 35,
   "metadata": {
    "ExecuteTime": {
     "end_time": "2021-02-25T10:40:53.961145Z",
     "start_time": "2021-02-25T10:40:53.793388Z"
    }
   },
   "outputs": [
    {
     "name": "stderr",
     "output_type": "stream",
     "text": [
      "C:\\Users\\lydia\\AppData\\Roaming\\Python\\Python37\\site-packages\\ipykernel_launcher.py:1: DeprecationWarning: find_element_by_* commands are deprecated. Please use find_element() instead\n",
      "  \"\"\"Entry point for launching an IPython kernel.\n"
     ]
    },
    {
     "data": {
      "text/plain": [
       "<selenium.webdriver.remote.webelement.WebElement (session=\"ede12887d1590d9b518cfdd2c7a949bb\", element=\"81615749-eaad-41ff-8f57-81d43ae537d9\")>"
      ]
     },
     "execution_count": 35,
     "metadata": {},
     "output_type": "execute_result"
    }
   ],
   "source": [
    "menu_lateral = driver.find_element_by_id('lsmenu')\n",
    "menu_lateral"
   ]
  },
  {
   "cell_type": "code",
   "execution_count": 36,
   "metadata": {},
   "outputs": [
    {
     "name": "stderr",
     "output_type": "stream",
     "text": [
      "c:\\Users\\lydia\\AppData\\Local\\Programs\\Python\\Python37\\lib\\site-packages\\selenium\\webdriver\\remote\\webelement.py:359: UserWarning: find_elements_by_* commands are deprecated. Please use find_elements() instead\n",
      "  warnings.warn(\"find_elements_by_* commands are deprecated. Please use find_elements() instead\")\n"
     ]
    }
   ],
   "source": [
    "mis_secciones = menu_lateral.find_elements_by_tag_name('a')"
   ]
  },
  {
   "cell_type": "markdown",
   "metadata": {},
   "source": [
    "2. Vemos con cuál nos tenemos que quedar"
   ]
  },
  {
   "cell_type": "code",
   "execution_count": 37,
   "metadata": {
    "ExecuteTime": {
     "end_time": "2021-02-25T10:40:55.130681Z",
     "start_time": "2021-02-25T10:40:54.930234Z"
    }
   },
   "outputs": [],
   "source": [
    "for a in mis_secciones:\n",
    "    if a.text == 'Próximos estrenos':\n",
    "        a.click()\n",
    "        break"
   ]
  },
  {
   "cell_type": "markdown",
   "metadata": {},
   "source": [
    "Accedemos al container central, en el que aparecen los estrenos por semana que queremos ver, exactamente igual que hemos hecho antes"
   ]
  },
  {
   "cell_type": "code",
   "execution_count": 38,
   "metadata": {
    "ExecuteTime": {
     "end_time": "2021-02-25T10:43:53.772471Z",
     "start_time": "2021-02-25T10:43:53.757510Z"
    }
   },
   "outputs": [
    {
     "name": "stderr",
     "output_type": "stream",
     "text": [
      "C:\\Users\\lydia\\AppData\\Roaming\\Python\\Python37\\site-packages\\ipykernel_launcher.py:1: DeprecationWarning: find_elements_by_* commands are deprecated. Please use find_elements() instead\n",
      "  \"\"\"Entry point for launching an IPython kernel.\n"
     ]
    }
   ],
   "source": [
    "cajon_central = driver.find_elements_by_id('main-wrapper-rdcat')"
   ]
  },
  {
   "cell_type": "code",
   "execution_count": 39,
   "metadata": {},
   "outputs": [
    {
     "data": {
      "text/plain": [
       "list"
      ]
     },
     "execution_count": 39,
     "metadata": {},
     "output_type": "execute_result"
    }
   ],
   "source": [
    "type(cajon_central)"
   ]
  },
  {
   "cell_type": "code",
   "execution_count": 46,
   "metadata": {},
   "outputs": [
    {
     "name": "stderr",
     "output_type": "stream",
     "text": [
      "C:\\Users\\lydia\\AppData\\Roaming\\Python\\Python37\\site-packages\\ipykernel_launcher.py:1: DeprecationWarning: executable_path has been deprecated, please pass in a Service object\n",
      "  \"\"\"Entry point for launching an IPython kernel.\n",
      "C:\\Users\\lydia\\AppData\\Roaming\\Python\\Python37\\site-packages\\ipykernel_launcher.py:6: DeprecationWarning: find_elements_by_* commands are deprecated. Please use find_elements() instead\n",
      "  \n",
      "C:\\Users\\lydia\\AppData\\Roaming\\Python\\Python37\\site-packages\\ipykernel_launcher.py:9: DeprecationWarning: find_elements_by_* commands are deprecated. Please use find_elements() instead\n",
      "  if __name__ == \"__main__\":\n"
     ]
    }
   ],
   "source": [
    "driver = webdriver.Chrome(executable_path = chrome_driver_path, options = options)\n",
    "# indicamos la URL de la página web a la que queremos acceder:\n",
    "url = 'https://www.filmaffinity.com/es/rdcat.php?id=new_th_es#2023-04-05'\n",
    "# el objeto driver nos va a permitir alterar el estado del la página\n",
    "driver.get(url)\n",
    "elements_by_tag = driver.find_elements_by_tag_name('button')\n",
    "boton_aceptar = elements_by_tag[2]\n",
    "boton_aceptar.click()\n",
    "cajon_central = driver.find_elements_by_id('main-wrapper-rdcat')"
   ]
  },
  {
   "cell_type": "code",
   "execution_count": 47,
   "metadata": {
    "ExecuteTime": {
     "end_time": "2021-02-25T11:04:59.734561Z",
     "start_time": "2021-02-25T11:04:59.617626Z"
    }
   },
   "outputs": [
    {
     "name": "stderr",
     "output_type": "stream",
     "text": [
      "c:\\Users\\lydia\\AppData\\Local\\Programs\\Python\\Python37\\lib\\site-packages\\selenium\\webdriver\\remote\\webelement.py:341: UserWarning: find_element_by_* commands are deprecated. Please use find_element() instead\n",
      "  warnings.warn(\"find_element_by_* commands are deprecated. Please use find_element() instead\")\n"
     ]
    },
    {
     "name": "stdout",
     "output_type": "stream",
     "text": [
      "14 de abril de 2023\n",
      "2023-04-14\n",
      "5 de abril de 2023\n",
      "2023-04-05\n",
      "31 de marzo de 2023\n",
      "2023-03-31\n",
      "24 de marzo de 2023\n",
      "2023-03-24\n",
      "17 de marzo de 2023\n",
      "2023-03-17\n",
      "10 de marzo de 2023\n",
      "2023-03-10\n",
      "3 de marzo de 2023\n",
      "2023-03-03\n"
     ]
    }
   ],
   "source": [
    "for semana in cajon_central:\n",
    "    print(semana.find_element_by_tag_name('div').text)\n",
    "    print(semana.find_element_by_tag_name('div').get_attribute('id'))"
   ]
  },
  {
   "cell_type": "code",
   "execution_count": 52,
   "metadata": {},
   "outputs": [],
   "source": [
    "for semana in cajon_central:\n",
    "    fecha = semana.find_element_by_tag_name('div').get_attribute('id')\n",
    "    if fecha == '2023-04-05':\n",
    "        break"
   ]
  },
  {
   "cell_type": "markdown",
   "metadata": {
    "ExecuteTime": {
     "end_time": "2021-02-25T11:04:08.219853Z",
     "start_time": "2021-02-25T11:04:08.215863Z"
    }
   },
   "source": [
    "Buscamos cómo acceder a las películas"
   ]
  },
  {
   "cell_type": "code",
   "execution_count": 53,
   "metadata": {
    "ExecuteTime": {
     "end_time": "2021-02-25T11:10:28.294864Z",
     "start_time": "2021-02-25T11:10:28.174126Z"
    }
   },
   "outputs": [],
   "source": [
    "caratulas = semana.find_elements_by_class_name('mc-poster')\n",
    "lista_pelis = []\n",
    "for peli in caratulas:\n",
    "    lista_pelis.append(peli.find_element_by_tag_name('a').get_attribute('href'))"
   ]
  },
  {
   "cell_type": "code",
   "execution_count": 54,
   "metadata": {},
   "outputs": [
    {
     "data": {
      "text/plain": [
       "['https://www.filmaffinity.com/es/film520586.html',\n",
       " 'https://www.filmaffinity.com/es/film966677.html',\n",
       " 'https://www.filmaffinity.com/es/film204461.html',\n",
       " 'https://www.filmaffinity.com/es/film259000.html',\n",
       " 'https://www.filmaffinity.com/es/film380291.html',\n",
       " 'https://www.filmaffinity.com/es/film185176.html',\n",
       " 'https://www.filmaffinity.com/es/film863159.html']"
      ]
     },
     "execution_count": 54,
     "metadata": {},
     "output_type": "execute_result"
    }
   ],
   "source": [
    "lista_pelis"
   ]
  },
  {
   "cell_type": "markdown",
   "metadata": {},
   "source": [
    "Una vez tenemos todas las urls vamos a ver qué hacemos con cada una de ellas"
   ]
  },
  {
   "cell_type": "code",
   "execution_count": 55,
   "metadata": {
    "ExecuteTime": {
     "end_time": "2021-02-25T11:15:40.003059Z",
     "start_time": "2021-02-25T11:15:39.091047Z"
    }
   },
   "outputs": [],
   "source": [
    "# Accedemos a la página de la primera pelicula\n",
    "driver.get(lista_pelis[0])"
   ]
  },
  {
   "cell_type": "markdown",
   "metadata": {
    "ExecuteTime": {
     "end_time": "2021-02-25T11:21:51.020248Z",
     "start_time": "2021-02-25T11:21:50.381138Z"
    }
   },
   "source": [
    "Vamos a ver el proceso que deberíamos hacer con cada una de las películas:"
   ]
  },
  {
   "cell_type": "markdown",
   "metadata": {},
   "source": [
    "1. Sacamos toda la información que nos interesa"
   ]
  },
  {
   "cell_type": "code",
   "execution_count": 56,
   "metadata": {
    "ExecuteTime": {
     "end_time": "2021-02-25T11:36:58.487622Z",
     "start_time": "2021-02-25T11:36:58.420292Z"
    }
   },
   "outputs": [
    {
     "name": "stderr",
     "output_type": "stream",
     "text": [
      "C:\\Users\\lydia\\AppData\\Roaming\\Python\\Python37\\site-packages\\ipykernel_launcher.py:2: DeprecationWarning: find_element_by_* commands are deprecated. Please use find_element() instead\n",
      "  \n",
      "C:\\Users\\lydia\\AppData\\Roaming\\Python\\Python37\\site-packages\\ipykernel_launcher.py:3: DeprecationWarning: find_element_by_* commands are deprecated. Please use find_element() instead\n",
      "  This is separate from the ipykernel package so we can avoid doing imports until\n",
      "C:\\Users\\lydia\\AppData\\Roaming\\Python\\Python37\\site-packages\\ipykernel_launcher.py:4: DeprecationWarning: find_element_by_* commands are deprecated. Please use find_element() instead\n",
      "  after removing the cwd from sys.path.\n",
      "C:\\Users\\lydia\\AppData\\Roaming\\Python\\Python37\\site-packages\\ipykernel_launcher.py:5: DeprecationWarning: find_element_by_* commands are deprecated. Please use find_element() instead\n",
      "  \"\"\"\n"
     ]
    }
   ],
   "source": [
    "# titulo, nota, numero de votos y ficha técnica\n",
    "titulo = driver.find_element_by_xpath('/html/body/div[4]/table/tbody/tr/td[2]/div[1]/div[4]/h1/span').text\n",
    "nota = driver.find_element_by_xpath('/html/body/div[4]/table/tbody/tr/td[2]/div[1]/div[4]/div/div[2]/div[2]/div[1]/div[2]/div[1]').text\n",
    "votos = driver.find_element_by_xpath('/html/body/div[4]/table/tbody/tr/td[2]/div[1]/div[4]/div/div[2]/div[2]/div[1]/div[2]/div[2]/span').text\n",
    "ficha = driver.find_element_by_xpath('/html/body/div[4]/table/tbody/tr/td[2]/div[1]/div[4]/div/div[3]/dl[1]')"
   ]
  },
  {
   "cell_type": "code",
   "execution_count": 57,
   "metadata": {},
   "outputs": [
    {
     "data": {
      "text/plain": [
       "'Super Mario Bros: La película'"
      ]
     },
     "execution_count": 57,
     "metadata": {},
     "output_type": "execute_result"
    }
   ],
   "source": [
    "titulo"
   ]
  },
  {
   "cell_type": "markdown",
   "metadata": {},
   "source": [
    "2. Creamos una lista a partir de la ficha técnica"
   ]
  },
  {
   "cell_type": "code",
   "execution_count": 58,
   "metadata": {
    "ExecuteTime": {
     "end_time": "2021-02-25T11:34:54.218938Z",
     "start_time": "2021-02-25T11:34:53.923558Z"
    }
   },
   "outputs": [
    {
     "name": "stderr",
     "output_type": "stream",
     "text": [
      "c:\\Users\\lydia\\AppData\\Local\\Programs\\Python\\Python37\\lib\\site-packages\\selenium\\webdriver\\remote\\webelement.py:359: UserWarning: find_elements_by_* commands are deprecated. Please use find_elements() instead\n",
      "  warnings.warn(\"find_elements_by_* commands are deprecated. Please use find_elements() instead\")\n"
     ]
    }
   ],
   "source": [
    "# Los nombres estan con tag  = 'dt' y los valores con 'dd'\n",
    "ficha_names = []\n",
    "ficha_values = []\n",
    "\n",
    "for name in ficha.find_elements_by_tag_name('dt'):\n",
    "    ficha_names.append(name.text)\n",
    "for value in ficha.find_elements_by_tag_name('dd'):\n",
    "    ficha_values.append(value.text)"
   ]
  },
  {
   "cell_type": "code",
   "execution_count": 59,
   "metadata": {},
   "outputs": [
    {
     "data": {
      "text/plain": [
       "['The Super Mario Bros. Movie',\n",
       " '2023',\n",
       " '92 min.',\n",
       " ' Estados Unidos',\n",
       " 'Aaron Horvath, Michael Jelenic',\n",
       " 'Matthew Fogel. Personajes: Shigeru Miyamoto. Videojuego: Nintendo, Shigeru Miyamoto',\n",
       " 'Kōji Kondō, Brian Tyler',\n",
       " 'Animación',\n",
       " 'Animación, Voz: Chris Pratt, Anya Taylor-Joy, Charlie Day, Jack Black, Keegan-Michael Key, Seth Rogen, Fred Armisen, Kevin Michael Richardson, Sebastian Maniscalco, Charles Martinet',\n",
       " 'Coproducción Estados Unidos-Japón; Illumination Entertainment, Nintendo, Universal Pictures. Distribuidora: Universal Pictures',\n",
       " 'Animación. Aventuras. Infantil. Fantástico. Comedia | Cine familiar. Videojuego',\n",
       " 'Nintendo | Mario Bros. | Illumination Entertainment',\n",
       " 'Mientras trabajan en una avería subterránea, los fontaneros de Brooklyn, Mario y su hermano Luigi, viajan por una misteriosa tubería hasta un nuevo mundo mágico. Pero, cuando los hermanos se separan, Mario deberá emprender una épica misión para encontrar a Luigi. Con la ayuda del champiñón local Toad y unas cuantas nociones de combate de la guerrera líder del Reino Champiñón, la princesa Peach, Mario descubre todo el poder que alberga en su interior. (FILMAFFINITY)']"
      ]
     },
     "execution_count": 59,
     "metadata": {},
     "output_type": "execute_result"
    }
   ],
   "source": [
    "ficha_values"
   ]
  },
  {
   "cell_type": "markdown",
   "metadata": {},
   "source": [
    "3. Creamos un dataframe con la info"
   ]
  },
  {
   "cell_type": "code",
   "execution_count": 60,
   "metadata": {
    "ExecuteTime": {
     "end_time": "2021-02-25T11:38:19.916044Z",
     "start_time": "2021-02-25T11:38:19.899094Z"
    }
   },
   "outputs": [
    {
     "data": {
      "text/plain": [
       "16"
      ]
     },
     "execution_count": 60,
     "metadata": {},
     "output_type": "execute_result"
    }
   ],
   "source": [
    "columns = ['Titulo', 'Nota', 'Votos']\n",
    "columns.extend(ficha_names)\n",
    "len(columns)"
   ]
  },
  {
   "cell_type": "code",
   "execution_count": 61,
   "metadata": {},
   "outputs": [
    {
     "data": {
      "text/plain": [
       "16"
      ]
     },
     "execution_count": 61,
     "metadata": {},
     "output_type": "execute_result"
    }
   ],
   "source": [
    "values = [titulo, nota, votos]\n",
    "values.extend(ficha_values)\n",
    "len(values)"
   ]
  },
  {
   "cell_type": "code",
   "execution_count": 62,
   "metadata": {},
   "outputs": [
    {
     "data": {
      "text/html": [
       "<div>\n",
       "<style scoped>\n",
       "    .dataframe tbody tr th:only-of-type {\n",
       "        vertical-align: middle;\n",
       "    }\n",
       "\n",
       "    .dataframe tbody tr th {\n",
       "        vertical-align: top;\n",
       "    }\n",
       "\n",
       "    .dataframe thead th {\n",
       "        text-align: right;\n",
       "    }\n",
       "</style>\n",
       "<table border=\"1\" class=\"dataframe\">\n",
       "  <thead>\n",
       "    <tr style=\"text-align: right;\">\n",
       "      <th></th>\n",
       "      <th>Titulo</th>\n",
       "      <th>Nota</th>\n",
       "      <th>Votos</th>\n",
       "      <th>Título original</th>\n",
       "      <th>Año</th>\n",
       "      <th>Duración</th>\n",
       "      <th>País</th>\n",
       "      <th>Dirección</th>\n",
       "      <th>Guion</th>\n",
       "      <th>Música</th>\n",
       "      <th>Fotografía</th>\n",
       "      <th>Reparto</th>\n",
       "      <th>Compañías</th>\n",
       "      <th>Género</th>\n",
       "      <th>Grupos</th>\n",
       "      <th>Sinopsis</th>\n",
       "    </tr>\n",
       "  </thead>\n",
       "  <tbody>\n",
       "    <tr>\n",
       "      <th>0</th>\n",
       "      <td>Super Mario Bros: La película</td>\n",
       "      <td>6,9</td>\n",
       "      <td>3.511</td>\n",
       "      <td>The Super Mario Bros. Movie</td>\n",
       "      <td>2023</td>\n",
       "      <td>92 min.</td>\n",
       "      <td>Estados Unidos</td>\n",
       "      <td>Aaron Horvath, Michael Jelenic</td>\n",
       "      <td>Matthew Fogel. Personajes: Shigeru Miyamoto. V...</td>\n",
       "      <td>Kōji Kondō, Brian Tyler</td>\n",
       "      <td>Animación</td>\n",
       "      <td>Animación, Voz: Chris Pratt, Anya Taylor-Joy, ...</td>\n",
       "      <td>Coproducción Estados Unidos-Japón; Illuminatio...</td>\n",
       "      <td>Animación. Aventuras. Infantil. Fantástico. Co...</td>\n",
       "      <td>Nintendo | Mario Bros. | Illumination Entertai...</td>\n",
       "      <td>Mientras trabajan en una avería subterránea, l...</td>\n",
       "    </tr>\n",
       "  </tbody>\n",
       "</table>\n",
       "</div>"
      ],
      "text/plain": [
       "                          Titulo Nota  Votos              Título original  \\\n",
       "0  Super Mario Bros: La película  6,9  3.511  The Super Mario Bros. Movie   \n",
       "\n",
       "    Año Duración             País                       Dirección  \\\n",
       "0  2023  92 min.   Estados Unidos  Aaron Horvath, Michael Jelenic   \n",
       "\n",
       "                                               Guion                   Música  \\\n",
       "0  Matthew Fogel. Personajes: Shigeru Miyamoto. V...  Kōji Kondō, Brian Tyler   \n",
       "\n",
       "  Fotografía                                            Reparto  \\\n",
       "0  Animación  Animación, Voz: Chris Pratt, Anya Taylor-Joy, ...   \n",
       "\n",
       "                                           Compañías  \\\n",
       "0  Coproducción Estados Unidos-Japón; Illuminatio...   \n",
       "\n",
       "                                              Género  \\\n",
       "0  Animación. Aventuras. Infantil. Fantástico. Co...   \n",
       "\n",
       "                                              Grupos  \\\n",
       "0  Nintendo | Mario Bros. | Illumination Entertai...   \n",
       "\n",
       "                                            Sinopsis  \n",
       "0  Mientras trabajan en una avería subterránea, l...  "
      ]
     },
     "execution_count": 62,
     "metadata": {},
     "output_type": "execute_result"
    }
   ],
   "source": [
    "pd.DataFrame([values],columns=columns)"
   ]
  },
  {
   "cell_type": "markdown",
   "metadata": {},
   "source": [
    "Ahora vamos a crear una función que nos haga todo esto para cada una de las películas:"
   ]
  },
  {
   "cell_type": "code",
   "execution_count": 63,
   "metadata": {
    "ExecuteTime": {
     "end_time": "2021-02-25T11:58:39.349919Z",
     "start_time": "2021-02-25T11:58:39.052802Z"
    }
   },
   "outputs": [],
   "source": [
    "def sacar_info(driver):\n",
    "    \n",
    "    titulo = driver.find_element_by_xpath('/html/body/div[4]/table/tbody/tr/td[2]/div[1]/div[4]/h1/span').text\n",
    "    try:\n",
    "        nota = driver.find_element_by_xpath('/html/body/div[4]/table/tbody/tr/td[2]/div[1]/div[4]/div/div[2]/div[2]/div[1]/div[2]').text\n",
    "        votos = driver.find_element_by_xpath('/html/body/div[4]/table/tbody/tr/td[2]/div[1]/div[4]/div/div[2]/div[2]/div[1]/div[2]/div[2]').text\n",
    "    except:\n",
    "        nota = None\n",
    "        votos = None\n",
    "    ficha = driver.find_element_by_xpath('/html/body/div[4]/table/tbody/tr/td[2]/div[1]/div[4]/div/div[3]/dl[1]')\n",
    "    \n",
    "    return titulo, nota, votos, ficha\n",
    "\n",
    "def sacar_ficha(ficha):\n",
    "    \n",
    "    ficha_names = []\n",
    "    ficha_values = []\n",
    "\n",
    "    for name in ficha.find_elements_by_tag_name('dt'):\n",
    "        ficha_names.append(name.text)\n",
    "    for value in ficha.find_elements_by_tag_name('dd'):\n",
    "        ficha_values.append(value.text)\n",
    "        \n",
    "    return ficha_names, ficha_values\n",
    "\n",
    "def montar_df(ficha_names, ficha_values, titulo, nota, votos):\n",
    "    \n",
    "    columns = ['Titulo', 'Nota', 'Votos']\n",
    "    columns.extend(ficha_names)\n",
    "    values = [titulo, nota, votos]\n",
    "    values.extend(ficha_values)\n",
    "    \n",
    "    return pd.DataFrame([values], columns = columns)\n",
    "    \n",
    "def nueva_pelicula(driver):\n",
    "    \n",
    "    titulo, nota, votos, ficha = sacar_info(driver)\n",
    "    ficha_names, ficha_values = sacar_ficha(ficha)\n",
    "    df_peli = montar_df(ficha_names, ficha_values, titulo, nota, votos)\n",
    "    \n",
    "    return df_peli\n"
   ]
  },
  {
   "cell_type": "markdown",
   "metadata": {},
   "source": [
    "Vamos a ver cómo nos podemos mover entre ventanas del navegador\n",
    "\n",
    "Abrir nueva ventana:"
   ]
  },
  {
   "cell_type": "code",
   "execution_count": 64,
   "metadata": {},
   "outputs": [],
   "source": [
    "driver.execute_script('window.open(\"\");')"
   ]
  },
  {
   "cell_type": "markdown",
   "metadata": {},
   "source": [
    "Movernos a otra ventana"
   ]
  },
  {
   "cell_type": "code",
   "execution_count": 65,
   "metadata": {},
   "outputs": [],
   "source": [
    "driver.switch_to.window(driver.window_handles[0])"
   ]
  },
  {
   "cell_type": "markdown",
   "metadata": {},
   "source": [
    "Cerrar ventana"
   ]
  },
  {
   "cell_type": "code",
   "execution_count": 66,
   "metadata": {
    "ExecuteTime": {
     "end_time": "2021-02-25T12:04:17.177986Z",
     "start_time": "2021-02-25T12:04:17.160442Z"
    }
   },
   "outputs": [],
   "source": [
    "driver.close()"
   ]
  },
  {
   "cell_type": "markdown",
   "metadata": {},
   "source": [
    "Una vez cerramos la ventana tenemos que indicarle a qué ventana tiene que ir"
   ]
  },
  {
   "cell_type": "code",
   "execution_count": 67,
   "metadata": {
    "ExecuteTime": {
     "end_time": "2021-02-25T12:05:01.711952Z",
     "start_time": "2021-02-25T12:05:01.583709Z"
    }
   },
   "outputs": [],
   "source": [
    "driver.switch_to.window(driver.window_handles[-1])"
   ]
  },
  {
   "cell_type": "markdown",
   "metadata": {},
   "source": [
    "Sabiendo cómo podemos movernos por entre las ventanas y sabiendo cómo extraer de cada página toda la información que necesitamos vamos a crear nuestro dataframe:"
   ]
  },
  {
   "cell_type": "code",
   "execution_count": 68,
   "metadata": {},
   "outputs": [],
   "source": [
    "# para abrir todos los links en lista_pelis\n",
    "for link in lista_pelis:\n",
    "    driver.execute_script('window.open(\"'+link+'\");')\n",
    "    driver.switch_to.window(driver.window_handles[-1])\n",
    "    driver.get(link)"
   ]
  },
  {
   "cell_type": "code",
   "execution_count": 69,
   "metadata": {
    "ExecuteTime": {
     "end_time": "2021-02-25T12:00:27.038323Z",
     "start_time": "2021-02-25T11:59:37.219902Z"
    }
   },
   "outputs": [
    {
     "name": "stderr",
     "output_type": "stream",
     "text": [
      "C:\\Users\\lydia\\AppData\\Roaming\\Python\\Python37\\site-packages\\ipykernel_launcher.py:3: DeprecationWarning: find_element_by_* commands are deprecated. Please use find_element() instead\n",
      "  This is separate from the ipykernel package so we can avoid doing imports until\n",
      "C:\\Users\\lydia\\AppData\\Roaming\\Python\\Python37\\site-packages\\ipykernel_launcher.py:5: DeprecationWarning: find_element_by_* commands are deprecated. Please use find_element() instead\n",
      "  \"\"\"\n",
      "C:\\Users\\lydia\\AppData\\Roaming\\Python\\Python37\\site-packages\\ipykernel_launcher.py:6: DeprecationWarning: find_element_by_* commands are deprecated. Please use find_element() instead\n",
      "  \n",
      "C:\\Users\\lydia\\AppData\\Roaming\\Python\\Python37\\site-packages\\ipykernel_launcher.py:10: DeprecationWarning: find_element_by_* commands are deprecated. Please use find_element() instead\n",
      "  # Remove the CWD from sys.path while we load stuff.\n",
      "c:\\Users\\lydia\\AppData\\Local\\Programs\\Python\\Python37\\lib\\site-packages\\selenium\\webdriver\\remote\\webelement.py:359: UserWarning: find_elements_by_* commands are deprecated. Please use find_elements() instead\n",
      "  warnings.warn(\"find_elements_by_* commands are deprecated. Please use find_elements() instead\")\n"
     ]
    }
   ],
   "source": [
    "# Creamos un dataframe con todas las pelis que se estrenan la próxima semana:\n",
    "df_peliculas = pd.DataFrame()\n",
    "\n",
    "for link in lista_pelis:\n",
    "    driver.execute_script('window.open(\"\");')\n",
    "    driver.switch_to.window(driver.window_handles[-1])\n",
    "    driver.get(link)\n",
    "    nueva_peli = nueva_pelicula(driver)\n",
    "    df_peliculas = df_peliculas.append(nueva_peli)"
   ]
  },
  {
   "cell_type": "code",
   "execution_count": 70,
   "metadata": {
    "ExecuteTime": {
     "end_time": "2021-02-25T12:00:36.221987Z",
     "start_time": "2021-02-25T12:00:36.207006Z"
    }
   },
   "outputs": [
    {
     "name": "stdout",
     "output_type": "stream",
     "text": [
      "<class 'pandas.core.frame.DataFrame'>\n",
      "Int64Index: 7 entries, 0 to 0\n",
      "Data columns (total 17 columns):\n",
      " #   Column           Non-Null Count  Dtype \n",
      "---  ------           --------------  ----- \n",
      " 0   Titulo           7 non-null      object\n",
      " 1   Nota             7 non-null      object\n",
      " 2   Votos            7 non-null      object\n",
      " 3   Título original  7 non-null      object\n",
      " 4   Año              7 non-null      object\n",
      " 5   Duración         7 non-null      object\n",
      " 6   País             7 non-null      object\n",
      " 7   Dirección        7 non-null      object\n",
      " 8   Guion            7 non-null      object\n",
      " 9   Música           6 non-null      object\n",
      " 10  Fotografía       7 non-null      object\n",
      " 11  Reparto          7 non-null      object\n",
      " 12  Compañías        7 non-null      object\n",
      " 13  Género           7 non-null      object\n",
      " 14  Grupos           1 non-null      object\n",
      " 15  Sinopsis         7 non-null      object\n",
      " 16                   1 non-null      object\n",
      "dtypes: object(17)\n",
      "memory usage: 1008.0+ bytes\n"
     ]
    }
   ],
   "source": [
    "df_peliculas.info()"
   ]
  },
  {
   "cell_type": "code",
   "execution_count": 71,
   "metadata": {},
   "outputs": [
    {
     "data": {
      "text/html": [
       "<div>\n",
       "<style scoped>\n",
       "    .dataframe tbody tr th:only-of-type {\n",
       "        vertical-align: middle;\n",
       "    }\n",
       "\n",
       "    .dataframe tbody tr th {\n",
       "        vertical-align: top;\n",
       "    }\n",
       "\n",
       "    .dataframe thead th {\n",
       "        text-align: right;\n",
       "    }\n",
       "</style>\n",
       "<table border=\"1\" class=\"dataframe\">\n",
       "  <thead>\n",
       "    <tr style=\"text-align: right;\">\n",
       "      <th></th>\n",
       "      <th>Titulo</th>\n",
       "      <th>Nota</th>\n",
       "      <th>Votos</th>\n",
       "      <th>Título original</th>\n",
       "      <th>Año</th>\n",
       "      <th>Duración</th>\n",
       "      <th>País</th>\n",
       "      <th>Dirección</th>\n",
       "      <th>Guion</th>\n",
       "      <th>Música</th>\n",
       "      <th>Fotografía</th>\n",
       "      <th>Reparto</th>\n",
       "      <th>Compañías</th>\n",
       "      <th>Género</th>\n",
       "      <th>Grupos</th>\n",
       "      <th>Sinopsis</th>\n",
       "      <th></th>\n",
       "    </tr>\n",
       "  </thead>\n",
       "  <tbody>\n",
       "    <tr>\n",
       "      <th>0</th>\n",
       "      <td>Super Mario Bros: La película</td>\n",
       "      <td>6,9\\n3.512\\nvotos</td>\n",
       "      <td>3.512\\nvotos</td>\n",
       "      <td>The Super Mario Bros. Movie</td>\n",
       "      <td>2023</td>\n",
       "      <td>92 min.</td>\n",
       "      <td>Estados Unidos</td>\n",
       "      <td>Aaron Horvath, Michael Jelenic</td>\n",
       "      <td>Matthew Fogel. Personajes: Shigeru Miyamoto. V...</td>\n",
       "      <td>Kōji Kondō, Brian Tyler</td>\n",
       "      <td>Animación</td>\n",
       "      <td>Animación, Voz: Chris Pratt, Anya Taylor-Joy, ...</td>\n",
       "      <td>Coproducción Estados Unidos-Japón; Illuminatio...</td>\n",
       "      <td>Animación. Aventuras. Infantil. Fantástico. Co...</td>\n",
       "      <td>Nintendo | Mario Bros. | Illumination Entertai...</td>\n",
       "      <td>Mientras trabajan en una avería subterránea, l...</td>\n",
       "      <td>NaN</td>\n",
       "    </tr>\n",
       "    <tr>\n",
       "      <th>0</th>\n",
       "      <td>AIR</td>\n",
       "      <td>7,1\\n1.203\\nvotos</td>\n",
       "      <td>1.203\\nvotos</td>\n",
       "      <td>AIR</td>\n",
       "      <td>2023</td>\n",
       "      <td>112 min.</td>\n",
       "      <td>Estados Unidos</td>\n",
       "      <td>Ben Affleck</td>\n",
       "      <td>Alex Convery. Biografía sobre: Michael Jordan</td>\n",
       "      <td>NaN</td>\n",
       "      <td>Robert Richardson</td>\n",
       "      <td>Matt Damon, Ben Affleck, Viola Davis, Jason Ba...</td>\n",
       "      <td>Amazon Studios, Skydance Productions, Mandalay...</td>\n",
       "      <td>Drama | Biográfico. Deporte. Años 80</td>\n",
       "      <td>NaN</td>\n",
       "      <td>Narra la increíble y revolucionaria asociación...</td>\n",
       "      <td>NaN</td>\n",
       "    </tr>\n",
       "    <tr>\n",
       "      <th>0</th>\n",
       "      <td>El exorcista del papa</td>\n",
       "      <td>5,5\\n631\\nvotos</td>\n",
       "      <td>631\\nvotos</td>\n",
       "      <td>The Pope's Exorcist</td>\n",
       "      <td>2023</td>\n",
       "      <td>103 min.</td>\n",
       "      <td>Estados Unidos</td>\n",
       "      <td>Julius Avery</td>\n",
       "      <td>Evan Spiliotopoulos, Michael Petroni. Biografí...</td>\n",
       "      <td>Jed Kurzel</td>\n",
       "      <td>Khalid Mohtaseb</td>\n",
       "      <td>Russell Crowe, Alex Essoe, Daniel Zovatto, Pet...</td>\n",
       "      <td>Screen Gems, 2.0 Entertainment, Jesus &amp; Mary, ...</td>\n",
       "      <td>Terror | Biográfico. Religión. Posesiones / Ex...</td>\n",
       "      <td>NaN</td>\n",
       "      <td>Película sobre Gabriele Amorth, un sacerdote q...</td>\n",
       "      <td>NaN</td>\n",
       "    </tr>\n",
       "    <tr>\n",
       "      <th>0</th>\n",
       "      <td>De Caperucita a loba</td>\n",
       "      <td>4,4\\n78\\nvotos</td>\n",
       "      <td>78\\nvotos</td>\n",
       "      <td>De Caperucita a loba</td>\n",
       "      <td>2023</td>\n",
       "      <td>92 min.</td>\n",
       "      <td>España</td>\n",
       "      <td>Chus Gutiérrez</td>\n",
       "      <td>Marta González de Vega</td>\n",
       "      <td>Karin Zielinski</td>\n",
       "      <td>Pilar Sánchez Díaz</td>\n",
       "      <td>Marta González de Vega, José Mota, Berto Romer...</td>\n",
       "      <td>Bowfinger International Pictures, Esto También...</td>\n",
       "      <td>Comedia</td>\n",
       "      <td>NaN</td>\n",
       "      <td>Marta consigue pasar de Caperucita a loba cuan...</td>\n",
       "      <td>NaN</td>\n",
       "    </tr>\n",
       "    <tr>\n",
       "      <th>0</th>\n",
       "      <td>El inocente</td>\n",
       "      <td>6,4\\n316\\nvotos</td>\n",
       "      <td>316\\nvotos</td>\n",
       "      <td>L'innocentaka</td>\n",
       "      <td>2022</td>\n",
       "      <td>100 min.</td>\n",
       "      <td>Francia</td>\n",
       "      <td>Louis Garrel</td>\n",
       "      <td>Louis Garrel, Tanguy Viel, Naïla Guiguet</td>\n",
       "      <td>Grégoire Hetzel</td>\n",
       "      <td>Julien Poupard</td>\n",
       "      <td>Louis Garrel, Roschdy Zem, Anouk Grinberg, Noé...</td>\n",
       "      <td>Les Films des Tournelles, arte France Cinéma, ...</td>\n",
       "      <td>Comedia. Romance | Comedia romántica</td>\n",
       "      <td>NaN</td>\n",
       "      <td>Cuando Abel descubre que su madre, Sylvie, que...</td>\n",
       "      <td></td>\n",
       "    </tr>\n",
       "    <tr>\n",
       "      <th>0</th>\n",
       "      <td>Blue Jean</td>\n",
       "      <td>7,0\\n215\\nvotos</td>\n",
       "      <td>215\\nvotos</td>\n",
       "      <td>Blue Jean</td>\n",
       "      <td>2022</td>\n",
       "      <td>97 min.</td>\n",
       "      <td>Reino Unido</td>\n",
       "      <td>Georgia Oakley</td>\n",
       "      <td>Georgia Oakley</td>\n",
       "      <td>Chris Roe</td>\n",
       "      <td>Victor Seguin</td>\n",
       "      <td>Rosy McEwen, Kerrie Hayes, Lydia Page, Lucy Ha...</td>\n",
       "      <td>BBC Film, BFI Film Fund, Kleio Films, Great Po...</td>\n",
       "      <td>Drama | Homosexualidad. Años 80</td>\n",
       "      <td>NaN</td>\n",
       "      <td>En 1988, una profesora homosexual se ve enfren...</td>\n",
       "      <td>NaN</td>\n",
       "    </tr>\n",
       "    <tr>\n",
       "      <th>0</th>\n",
       "      <td>Empieza el baile</td>\n",
       "      <td>7,0\\n93\\nvotos</td>\n",
       "      <td>93\\nvotos</td>\n",
       "      <td>Empieza el baile</td>\n",
       "      <td>2023</td>\n",
       "      <td>98 min.</td>\n",
       "      <td>Argentina</td>\n",
       "      <td>Marina Seresesky</td>\n",
       "      <td>Marina Seresesky</td>\n",
       "      <td>Nicolás Guerschberg</td>\n",
       "      <td>Federico Rivares</td>\n",
       "      <td>Darío Grandinetti, Mercedes Morán, Jorge Marra...</td>\n",
       "      <td>Coproducción Argentina-España; Meridional Prod...</td>\n",
       "      <td>Comedia. Drama | Comedia dramática. Vejez / Ma...</td>\n",
       "      <td>NaN</td>\n",
       "      <td>Carlos y Margarita fueron la pareja de tango m...</td>\n",
       "      <td>NaN</td>\n",
       "    </tr>\n",
       "  </tbody>\n",
       "</table>\n",
       "</div>"
      ],
      "text/plain": [
       "                          Titulo               Nota         Votos  \\\n",
       "0  Super Mario Bros: La película  6,9\\n3.512\\nvotos  3.512\\nvotos   \n",
       "0                            AIR  7,1\\n1.203\\nvotos  1.203\\nvotos   \n",
       "0          El exorcista del papa    5,5\\n631\\nvotos    631\\nvotos   \n",
       "0           De Caperucita a loba     4,4\\n78\\nvotos     78\\nvotos   \n",
       "0                    El inocente    6,4\\n316\\nvotos    316\\nvotos   \n",
       "0                      Blue Jean    7,0\\n215\\nvotos    215\\nvotos   \n",
       "0               Empieza el baile     7,0\\n93\\nvotos     93\\nvotos   \n",
       "\n",
       "               Título original   Año  Duración             País  \\\n",
       "0  The Super Mario Bros. Movie  2023   92 min.   Estados Unidos   \n",
       "0                          AIR  2023  112 min.   Estados Unidos   \n",
       "0          The Pope's Exorcist  2023  103 min.   Estados Unidos   \n",
       "0         De Caperucita a loba  2023   92 min.           España   \n",
       "0                L'innocentaka  2022  100 min.          Francia   \n",
       "0                    Blue Jean  2022   97 min.      Reino Unido   \n",
       "0             Empieza el baile  2023   98 min.        Argentina   \n",
       "\n",
       "                        Dirección  \\\n",
       "0  Aaron Horvath, Michael Jelenic   \n",
       "0                     Ben Affleck   \n",
       "0                    Julius Avery   \n",
       "0                  Chus Gutiérrez   \n",
       "0                    Louis Garrel   \n",
       "0                  Georgia Oakley   \n",
       "0                Marina Seresesky   \n",
       "\n",
       "                                               Guion                   Música  \\\n",
       "0  Matthew Fogel. Personajes: Shigeru Miyamoto. V...  Kōji Kondō, Brian Tyler   \n",
       "0      Alex Convery. Biografía sobre: Michael Jordan                      NaN   \n",
       "0  Evan Spiliotopoulos, Michael Petroni. Biografí...               Jed Kurzel   \n",
       "0                             Marta González de Vega          Karin Zielinski   \n",
       "0           Louis Garrel, Tanguy Viel, Naïla Guiguet          Grégoire Hetzel   \n",
       "0                                     Georgia Oakley                Chris Roe   \n",
       "0                                   Marina Seresesky      Nicolás Guerschberg   \n",
       "\n",
       "           Fotografía                                            Reparto  \\\n",
       "0           Animación  Animación, Voz: Chris Pratt, Anya Taylor-Joy, ...   \n",
       "0   Robert Richardson  Matt Damon, Ben Affleck, Viola Davis, Jason Ba...   \n",
       "0     Khalid Mohtaseb  Russell Crowe, Alex Essoe, Daniel Zovatto, Pet...   \n",
       "0  Pilar Sánchez Díaz  Marta González de Vega, José Mota, Berto Romer...   \n",
       "0      Julien Poupard  Louis Garrel, Roschdy Zem, Anouk Grinberg, Noé...   \n",
       "0       Victor Seguin  Rosy McEwen, Kerrie Hayes, Lydia Page, Lucy Ha...   \n",
       "0    Federico Rivares  Darío Grandinetti, Mercedes Morán, Jorge Marra...   \n",
       "\n",
       "                                           Compañías  \\\n",
       "0  Coproducción Estados Unidos-Japón; Illuminatio...   \n",
       "0  Amazon Studios, Skydance Productions, Mandalay...   \n",
       "0  Screen Gems, 2.0 Entertainment, Jesus & Mary, ...   \n",
       "0  Bowfinger International Pictures, Esto También...   \n",
       "0  Les Films des Tournelles, arte France Cinéma, ...   \n",
       "0  BBC Film, BFI Film Fund, Kleio Films, Great Po...   \n",
       "0  Coproducción Argentina-España; Meridional Prod...   \n",
       "\n",
       "                                              Género  \\\n",
       "0  Animación. Aventuras. Infantil. Fantástico. Co...   \n",
       "0               Drama | Biográfico. Deporte. Años 80   \n",
       "0  Terror | Biográfico. Religión. Posesiones / Ex...   \n",
       "0                                            Comedia   \n",
       "0               Comedia. Romance | Comedia romántica   \n",
       "0                    Drama | Homosexualidad. Años 80   \n",
       "0  Comedia. Drama | Comedia dramática. Vejez / Ma...   \n",
       "\n",
       "                                              Grupos  \\\n",
       "0  Nintendo | Mario Bros. | Illumination Entertai...   \n",
       "0                                                NaN   \n",
       "0                                                NaN   \n",
       "0                                                NaN   \n",
       "0                                                NaN   \n",
       "0                                                NaN   \n",
       "0                                                NaN   \n",
       "\n",
       "                                            Sinopsis       \n",
       "0  Mientras trabajan en una avería subterránea, l...  NaN  \n",
       "0  Narra la increíble y revolucionaria asociación...  NaN  \n",
       "0  Película sobre Gabriele Amorth, un sacerdote q...  NaN  \n",
       "0  Marta consigue pasar de Caperucita a loba cuan...  NaN  \n",
       "0  Cuando Abel descubre que su madre, Sylvie, que...       \n",
       "0  En 1988, una profesora homosexual se ve enfren...  NaN  \n",
       "0  Carlos y Margarita fueron la pareja de tango m...  NaN  "
      ]
     },
     "execution_count": 71,
     "metadata": {},
     "output_type": "execute_result"
    }
   ],
   "source": [
    "df_peliculas"
   ]
  },
  {
   "cell_type": "markdown",
   "metadata": {},
   "source": [
    "Ya tenemos un dataframe con todas las películas que se van a estrenar el próximo viernes"
   ]
  }
 ],
 "metadata": {
  "hide_input": false,
  "interpreter": {
   "hash": "7c77fdb427e7cbc9bc1367dd530fc2b36aacdbbde1ac83c85833b10dfa8b831c"
  },
  "kernelspec": {
   "display_name": "Python 3.7.4 64-bit",
   "name": "python3"
  },
  "language_info": {
   "codemirror_mode": {
    "name": "ipython",
    "version": 3
   },
   "file_extension": ".py",
   "mimetype": "text/x-python",
   "name": "python",
   "nbconvert_exporter": "python",
   "pygments_lexer": "ipython3",
   "version": "3.7.4"
  },
  "nbTranslate": {
   "displayLangs": [
    "*"
   ],
   "hotkey": "alt-t",
   "langInMainMenu": true,
   "sourceLang": "en",
   "targetLang": "fr",
   "useGoogleTranslate": true
  },
  "varInspector": {
   "cols": {
    "lenName": 16,
    "lenType": 16,
    "lenVar": 40
   },
   "kernels_config": {
    "python": {
     "delete_cmd_postfix": "",
     "delete_cmd_prefix": "del ",
     "library": "var_list.py",
     "varRefreshCmd": "print(var_dic_list())"
    },
    "r": {
     "delete_cmd_postfix": ") ",
     "delete_cmd_prefix": "rm(",
     "library": "var_list.r",
     "varRefreshCmd": "cat(var_dic_list()) "
    }
   },
   "types_to_exclude": [
    "module",
    "function",
    "builtin_function_or_method",
    "instance",
    "_Feature"
   ],
   "window_display": false
  }
 },
 "nbformat": 4,
 "nbformat_minor": 2
}
